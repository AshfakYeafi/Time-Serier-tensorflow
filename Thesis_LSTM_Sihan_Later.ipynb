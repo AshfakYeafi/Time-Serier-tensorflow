{
 "cells": [
  {
   "cell_type": "code",
   "execution_count": 1,
   "metadata": {
    "id": "xs08qSlmauXP"
   },
   "outputs": [],
   "source": [
    "import h5py\n",
    "import matplotlib.pyplot as plt\n",
    "import numpy as np\n",
    "import pandas as pd\n",
    "import time"
   ]
  },
  {
   "cell_type": "code",
   "execution_count": 4,
   "metadata": {
    "colab": {
     "base_uri": "https://localhost:8080/"
    },
    "id": "am3CdKXXcOl8",
    "outputId": "6e98211e-b371-40cc-885a-8de64441228d"
   },
   "outputs": [],
   "source": [
    "# "
   ]
  },
  {
   "cell_type": "code",
   "execution_count": 5,
   "metadata": {
    "colab": {
     "base_uri": "https://localhost:8080/"
    },
    "id": "y_h9cPqccijY",
    "outputId": "ff8e9177-48db-4d77-d8e6-5bdd7560a161"
   },
   "outputs": [
    {
     "name": "stdout",
     "output_type": "stream",
     "text": [
      "ls: cannot access '/content/gdrive/My Drive/Amit research': No such file or directory\r\n"
     ]
    }
   ],
   "source": [
    "!ls /content/gdrive/My\\ Drive/Amit\\ research"
   ]
  },
  {
   "cell_type": "code",
   "execution_count": 6,
   "metadata": {
    "id": "IFo9ZOIoauXU"
   },
   "outputs": [],
   "source": [
    "df_master = pd.read_csv('./PGCB_Demand_Data_2021.csv',parse_dates=True,index_col='date')"
   ]
  },
  {
   "cell_type": "code",
   "execution_count": 7,
   "metadata": {
    "colab": {
     "base_uri": "https://localhost:8080/",
     "height": 824
    },
    "id": "VehcCpGJauXV",
    "outputId": "ffb1bf46-9c75-49dc-f5e6-a8bd9f6f6cb5"
   },
   "outputs": [
    {
     "data": {
      "text/html": [
       "<div>\n",
       "<style scoped>\n",
       "    .dataframe tbody tr th:only-of-type {\n",
       "        vertical-align: middle;\n",
       "    }\n",
       "\n",
       "    .dataframe tbody tr th {\n",
       "        vertical-align: top;\n",
       "    }\n",
       "\n",
       "    .dataframe thead th {\n",
       "        text-align: right;\n",
       "    }\n",
       "</style>\n",
       "<table border=\"1\" class=\"dataframe\">\n",
       "  <thead>\n",
       "    <tr style=\"text-align: right;\">\n",
       "      <th></th>\n",
       "      <th>year</th>\n",
       "      <th>month</th>\n",
       "      <th>day</th>\n",
       "      <th>weekday</th>\n",
       "      <th>hour</th>\n",
       "      <th>demand</th>\n",
       "    </tr>\n",
       "    <tr>\n",
       "      <th>date</th>\n",
       "      <th></th>\n",
       "      <th></th>\n",
       "      <th></th>\n",
       "      <th></th>\n",
       "      <th></th>\n",
       "      <th></th>\n",
       "    </tr>\n",
       "  </thead>\n",
       "  <tbody>\n",
       "    <tr>\n",
       "      <th>2018-01-01</th>\n",
       "      <td>2018</td>\n",
       "      <td>1</td>\n",
       "      <td>1</td>\n",
       "      <td>2</td>\n",
       "      <td>0</td>\n",
       "      <td>5673.0</td>\n",
       "    </tr>\n",
       "    <tr>\n",
       "      <th>2018-01-01</th>\n",
       "      <td>2018</td>\n",
       "      <td>1</td>\n",
       "      <td>1</td>\n",
       "      <td>2</td>\n",
       "      <td>1</td>\n",
       "      <td>5183.0</td>\n",
       "    </tr>\n",
       "    <tr>\n",
       "      <th>2018-01-01</th>\n",
       "      <td>2018</td>\n",
       "      <td>1</td>\n",
       "      <td>1</td>\n",
       "      <td>2</td>\n",
       "      <td>2</td>\n",
       "      <td>4908.0</td>\n",
       "    </tr>\n",
       "    <tr>\n",
       "      <th>2018-01-01</th>\n",
       "      <td>2018</td>\n",
       "      <td>1</td>\n",
       "      <td>1</td>\n",
       "      <td>2</td>\n",
       "      <td>3</td>\n",
       "      <td>4786.0</td>\n",
       "    </tr>\n",
       "    <tr>\n",
       "      <th>2018-01-01</th>\n",
       "      <td>2018</td>\n",
       "      <td>1</td>\n",
       "      <td>1</td>\n",
       "      <td>2</td>\n",
       "      <td>4</td>\n",
       "      <td>4599.0</td>\n",
       "    </tr>\n",
       "    <tr>\n",
       "      <th>2018-01-01</th>\n",
       "      <td>2018</td>\n",
       "      <td>1</td>\n",
       "      <td>1</td>\n",
       "      <td>2</td>\n",
       "      <td>5</td>\n",
       "      <td>4594.0</td>\n",
       "    </tr>\n",
       "    <tr>\n",
       "      <th>2018-01-01</th>\n",
       "      <td>2018</td>\n",
       "      <td>1</td>\n",
       "      <td>1</td>\n",
       "      <td>2</td>\n",
       "      <td>6</td>\n",
       "      <td>4862.0</td>\n",
       "    </tr>\n",
       "    <tr>\n",
       "      <th>2018-01-01</th>\n",
       "      <td>2018</td>\n",
       "      <td>1</td>\n",
       "      <td>1</td>\n",
       "      <td>2</td>\n",
       "      <td>7</td>\n",
       "      <td>5191.0</td>\n",
       "    </tr>\n",
       "    <tr>\n",
       "      <th>2018-01-01</th>\n",
       "      <td>2018</td>\n",
       "      <td>1</td>\n",
       "      <td>1</td>\n",
       "      <td>2</td>\n",
       "      <td>8</td>\n",
       "      <td>5595.0</td>\n",
       "    </tr>\n",
       "    <tr>\n",
       "      <th>2018-01-01</th>\n",
       "      <td>2018</td>\n",
       "      <td>1</td>\n",
       "      <td>1</td>\n",
       "      <td>2</td>\n",
       "      <td>9</td>\n",
       "      <td>5927.0</td>\n",
       "    </tr>\n",
       "    <tr>\n",
       "      <th>2018-01-01</th>\n",
       "      <td>2018</td>\n",
       "      <td>1</td>\n",
       "      <td>1</td>\n",
       "      <td>2</td>\n",
       "      <td>10</td>\n",
       "      <td>5720.0</td>\n",
       "    </tr>\n",
       "    <tr>\n",
       "      <th>2018-01-01</th>\n",
       "      <td>2018</td>\n",
       "      <td>1</td>\n",
       "      <td>1</td>\n",
       "      <td>2</td>\n",
       "      <td>11</td>\n",
       "      <td>5751.0</td>\n",
       "    </tr>\n",
       "    <tr>\n",
       "      <th>2018-01-01</th>\n",
       "      <td>2018</td>\n",
       "      <td>1</td>\n",
       "      <td>1</td>\n",
       "      <td>2</td>\n",
       "      <td>12</td>\n",
       "      <td>5805.0</td>\n",
       "    </tr>\n",
       "    <tr>\n",
       "      <th>2018-01-01</th>\n",
       "      <td>2018</td>\n",
       "      <td>1</td>\n",
       "      <td>1</td>\n",
       "      <td>2</td>\n",
       "      <td>13</td>\n",
       "      <td>5869.0</td>\n",
       "    </tr>\n",
       "    <tr>\n",
       "      <th>2018-01-01</th>\n",
       "      <td>2018</td>\n",
       "      <td>1</td>\n",
       "      <td>1</td>\n",
       "      <td>2</td>\n",
       "      <td>14</td>\n",
       "      <td>5570.0</td>\n",
       "    </tr>\n",
       "    <tr>\n",
       "      <th>2018-01-01</th>\n",
       "      <td>2018</td>\n",
       "      <td>1</td>\n",
       "      <td>1</td>\n",
       "      <td>2</td>\n",
       "      <td>15</td>\n",
       "      <td>5572.0</td>\n",
       "    </tr>\n",
       "    <tr>\n",
       "      <th>2018-01-01</th>\n",
       "      <td>2018</td>\n",
       "      <td>1</td>\n",
       "      <td>1</td>\n",
       "      <td>2</td>\n",
       "      <td>16</td>\n",
       "      <td>5549.0</td>\n",
       "    </tr>\n",
       "    <tr>\n",
       "      <th>2018-01-01</th>\n",
       "      <td>2018</td>\n",
       "      <td>1</td>\n",
       "      <td>1</td>\n",
       "      <td>2</td>\n",
       "      <td>17</td>\n",
       "      <td>5914.0</td>\n",
       "    </tr>\n",
       "    <tr>\n",
       "      <th>2018-01-01</th>\n",
       "      <td>2018</td>\n",
       "      <td>1</td>\n",
       "      <td>1</td>\n",
       "      <td>2</td>\n",
       "      <td>18</td>\n",
       "      <td>7308.0</td>\n",
       "    </tr>\n",
       "    <tr>\n",
       "      <th>2018-01-01</th>\n",
       "      <td>2018</td>\n",
       "      <td>1</td>\n",
       "      <td>1</td>\n",
       "      <td>2</td>\n",
       "      <td>19</td>\n",
       "      <td>7395.5</td>\n",
       "    </tr>\n",
       "    <tr>\n",
       "      <th>2018-01-01</th>\n",
       "      <td>2018</td>\n",
       "      <td>1</td>\n",
       "      <td>1</td>\n",
       "      <td>2</td>\n",
       "      <td>20</td>\n",
       "      <td>7483.0</td>\n",
       "    </tr>\n",
       "    <tr>\n",
       "      <th>2018-01-01</th>\n",
       "      <td>2018</td>\n",
       "      <td>1</td>\n",
       "      <td>1</td>\n",
       "      <td>2</td>\n",
       "      <td>21</td>\n",
       "      <td>7206.0</td>\n",
       "    </tr>\n",
       "    <tr>\n",
       "      <th>2018-01-01</th>\n",
       "      <td>2018</td>\n",
       "      <td>1</td>\n",
       "      <td>1</td>\n",
       "      <td>2</td>\n",
       "      <td>22</td>\n",
       "      <td>6609.0</td>\n",
       "    </tr>\n",
       "    <tr>\n",
       "      <th>2018-01-01</th>\n",
       "      <td>2018</td>\n",
       "      <td>1</td>\n",
       "      <td>1</td>\n",
       "      <td>2</td>\n",
       "      <td>23</td>\n",
       "      <td>6171.0</td>\n",
       "    </tr>\n",
       "  </tbody>\n",
       "</table>\n",
       "</div>"
      ],
      "text/plain": [
       "            year  month  day  weekday  hour  demand\n",
       "date                                               \n",
       "2018-01-01  2018      1    1        2     0  5673.0\n",
       "2018-01-01  2018      1    1        2     1  5183.0\n",
       "2018-01-01  2018      1    1        2     2  4908.0\n",
       "2018-01-01  2018      1    1        2     3  4786.0\n",
       "2018-01-01  2018      1    1        2     4  4599.0\n",
       "2018-01-01  2018      1    1        2     5  4594.0\n",
       "2018-01-01  2018      1    1        2     6  4862.0\n",
       "2018-01-01  2018      1    1        2     7  5191.0\n",
       "2018-01-01  2018      1    1        2     8  5595.0\n",
       "2018-01-01  2018      1    1        2     9  5927.0\n",
       "2018-01-01  2018      1    1        2    10  5720.0\n",
       "2018-01-01  2018      1    1        2    11  5751.0\n",
       "2018-01-01  2018      1    1        2    12  5805.0\n",
       "2018-01-01  2018      1    1        2    13  5869.0\n",
       "2018-01-01  2018      1    1        2    14  5570.0\n",
       "2018-01-01  2018      1    1        2    15  5572.0\n",
       "2018-01-01  2018      1    1        2    16  5549.0\n",
       "2018-01-01  2018      1    1        2    17  5914.0\n",
       "2018-01-01  2018      1    1        2    18  7308.0\n",
       "2018-01-01  2018      1    1        2    19  7395.5\n",
       "2018-01-01  2018      1    1        2    20  7483.0\n",
       "2018-01-01  2018      1    1        2    21  7206.0\n",
       "2018-01-01  2018      1    1        2    22  6609.0\n",
       "2018-01-01  2018      1    1        2    23  6171.0"
      ]
     },
     "execution_count": 7,
     "metadata": {},
     "output_type": "execute_result"
    }
   ],
   "source": [
    "df_master.head(24)"
   ]
  },
  {
   "cell_type": "code",
   "execution_count": 8,
   "metadata": {
    "colab": {
     "base_uri": "https://localhost:8080/"
    },
    "id": "5gCAC-5dauXX",
    "outputId": "8f0913ff-d142-4f30-ada9-43107719f126"
   },
   "outputs": [
    {
     "name": "stdout",
     "output_type": "stream",
     "text": [
      "<class 'pandas.core.frame.DataFrame'>\n",
      "DatetimeIndex: 28080 entries, 2018-01-01 to 2021-03-15\n",
      "Data columns (total 6 columns):\n",
      " #   Column   Non-Null Count  Dtype  \n",
      "---  ------   --------------  -----  \n",
      " 0   year     28080 non-null  int64  \n",
      " 1   month    28080 non-null  int64  \n",
      " 2   day      28080 non-null  int64  \n",
      " 3   weekday  28080 non-null  int64  \n",
      " 4   hour     28080 non-null  int64  \n",
      " 5   demand   28080 non-null  float64\n",
      "dtypes: float64(1), int64(5)\n",
      "memory usage: 1.5 MB\n"
     ]
    }
   ],
   "source": [
    "df_master.info()"
   ]
  },
  {
   "cell_type": "code",
   "execution_count": 9,
   "metadata": {
    "colab": {
     "base_uri": "https://localhost:8080/"
    },
    "id": "ZNQFtQV2auXZ",
    "outputId": "42d3370f-7ecf-4bf8-d091-a6fb057443e3"
   },
   "outputs": [
    {
     "data": {
      "text/plain": [
       "(28080, 6)"
      ]
     },
     "execution_count": 9,
     "metadata": {},
     "output_type": "execute_result"
    }
   ],
   "source": [
    "df_master.shape"
   ]
  },
  {
   "cell_type": "code",
   "execution_count": 10,
   "metadata": {
    "colab": {
     "base_uri": "https://localhost:8080/"
    },
    "id": "8tZYx2fIauXa",
    "outputId": "d7a2718f-470b-437a-c696-d71b86649cb9"
   },
   "outputs": [
    {
     "data": {
      "text/plain": [
       "array([ 7483.  ,  7645.  ,  7707.  , ...,  9635.65, 10735.7 , 11242.  ])"
      ]
     },
     "execution_count": 10,
     "metadata": {},
     "output_type": "execute_result"
    }
   ],
   "source": [
    "D_max_daily = df_master.groupby('date').demand.max().to_numpy()\n",
    "D_max_daily"
   ]
  },
  {
   "cell_type": "code",
   "execution_count": 11,
   "metadata": {
    "colab": {
     "base_uri": "https://localhost:8080/"
    },
    "id": "ZNuIEXUhauXc",
    "outputId": "2041be52-bb1a-4682-8dd7-48a36a6b70b8"
   },
   "outputs": [
    {
     "data": {
      "text/plain": [
       "date\n",
       "2018-01-01    0.440006\n",
       "2018-01-01    0.402001\n",
       "2018-01-01    0.380672\n",
       "2018-01-01    0.371209\n",
       "2018-01-01    0.356705\n",
       "                ...   \n",
       "2021-03-15    0.800513\n",
       "2021-03-15    0.871946\n",
       "2021-03-15    0.852720\n",
       "2021-03-15    0.807260\n",
       "2021-03-15    0.765625\n",
       "Name: demand, Length: 28080, dtype: float64"
      ]
     },
     "execution_count": 11,
     "metadata": {},
     "output_type": "execute_result"
    }
   ],
   "source": [
    "#normalizing load value\n",
    "D_max = max(D_max_daily)\n",
    "D_max\n",
    "df = df_master.demand/D_max\n",
    "df"
   ]
  },
  {
   "cell_type": "code",
   "execution_count": 12,
   "metadata": {
    "colab": {
     "base_uri": "https://localhost:8080/"
    },
    "id": "v124Z7exauXe",
    "outputId": "0208d95f-8c2b-4876-9894-27eb2a84434b"
   },
   "outputs": [
    {
     "data": {
      "text/plain": [
       "array([0.4400062 , 0.40200109, 0.38067168, ..., 0.85272008, 0.80725975,\n",
       "       0.76562476])"
      ]
     },
     "execution_count": 12,
     "metadata": {},
     "output_type": "execute_result"
    }
   ],
   "source": [
    "Y = np.array(df)\n",
    "Y"
   ]
  },
  {
   "cell_type": "code",
   "execution_count": 13,
   "metadata": {
    "colab": {
     "base_uri": "https://localhost:8080/",
     "height": 235
    },
    "id": "A5V_-MTkauXf",
    "outputId": "ba3d66ca-8e28-43b3-a370-21f46111d511"
   },
   "outputs": [
    {
     "data": {
      "text/html": [
       "<div>\n",
       "<style scoped>\n",
       "    .dataframe tbody tr th:only-of-type {\n",
       "        vertical-align: middle;\n",
       "    }\n",
       "\n",
       "    .dataframe tbody tr th {\n",
       "        vertical-align: top;\n",
       "    }\n",
       "\n",
       "    .dataframe thead th {\n",
       "        text-align: right;\n",
       "    }\n",
       "</style>\n",
       "<table border=\"1\" class=\"dataframe\">\n",
       "  <thead>\n",
       "    <tr style=\"text-align: right;\">\n",
       "      <th></th>\n",
       "      <th>year</th>\n",
       "      <th>month</th>\n",
       "      <th>day</th>\n",
       "      <th>weekday</th>\n",
       "      <th>hour</th>\n",
       "      <th>demand</th>\n",
       "    </tr>\n",
       "    <tr>\n",
       "      <th>date</th>\n",
       "      <th></th>\n",
       "      <th></th>\n",
       "      <th></th>\n",
       "      <th></th>\n",
       "      <th></th>\n",
       "      <th></th>\n",
       "    </tr>\n",
       "  </thead>\n",
       "  <tbody>\n",
       "    <tr>\n",
       "      <th>2018-01-01</th>\n",
       "      <td>2018</td>\n",
       "      <td>1</td>\n",
       "      <td>1</td>\n",
       "      <td>2</td>\n",
       "      <td>0</td>\n",
       "      <td>5673.0</td>\n",
       "    </tr>\n",
       "    <tr>\n",
       "      <th>2018-01-01</th>\n",
       "      <td>2018</td>\n",
       "      <td>1</td>\n",
       "      <td>1</td>\n",
       "      <td>2</td>\n",
       "      <td>1</td>\n",
       "      <td>5183.0</td>\n",
       "    </tr>\n",
       "    <tr>\n",
       "      <th>2018-01-01</th>\n",
       "      <td>2018</td>\n",
       "      <td>1</td>\n",
       "      <td>1</td>\n",
       "      <td>2</td>\n",
       "      <td>2</td>\n",
       "      <td>4908.0</td>\n",
       "    </tr>\n",
       "    <tr>\n",
       "      <th>2018-01-01</th>\n",
       "      <td>2018</td>\n",
       "      <td>1</td>\n",
       "      <td>1</td>\n",
       "      <td>2</td>\n",
       "      <td>3</td>\n",
       "      <td>4786.0</td>\n",
       "    </tr>\n",
       "    <tr>\n",
       "      <th>2018-01-01</th>\n",
       "      <td>2018</td>\n",
       "      <td>1</td>\n",
       "      <td>1</td>\n",
       "      <td>2</td>\n",
       "      <td>4</td>\n",
       "      <td>4599.0</td>\n",
       "    </tr>\n",
       "  </tbody>\n",
       "</table>\n",
       "</div>"
      ],
      "text/plain": [
       "            year  month  day  weekday  hour  demand\n",
       "date                                               \n",
       "2018-01-01  2018      1    1        2     0  5673.0\n",
       "2018-01-01  2018      1    1        2     1  5183.0\n",
       "2018-01-01  2018      1    1        2     2  4908.0\n",
       "2018-01-01  2018      1    1        2     3  4786.0\n",
       "2018-01-01  2018      1    1        2     4  4599.0"
      ]
     },
     "execution_count": 13,
     "metadata": {},
     "output_type": "execute_result"
    }
   ],
   "source": [
    "df_master.head()"
   ]
  },
  {
   "cell_type": "code",
   "execution_count": 14,
   "metadata": {
    "colab": {
     "base_uri": "https://localhost:8080/",
     "height": 450
    },
    "id": "Tuw_988iauXg",
    "outputId": "685f7dd3-e90a-42a5-d186-61765b7eff58"
   },
   "outputs": [
    {
     "data": {
      "text/html": [
       "<div>\n",
       "<style scoped>\n",
       "    .dataframe tbody tr th:only-of-type {\n",
       "        vertical-align: middle;\n",
       "    }\n",
       "\n",
       "    .dataframe tbody tr th {\n",
       "        vertical-align: top;\n",
       "    }\n",
       "\n",
       "    .dataframe thead th {\n",
       "        text-align: right;\n",
       "    }\n",
       "</style>\n",
       "<table border=\"1\" class=\"dataframe\">\n",
       "  <thead>\n",
       "    <tr style=\"text-align: right;\">\n",
       "      <th></th>\n",
       "      <th>month</th>\n",
       "      <th>day</th>\n",
       "      <th>weekday</th>\n",
       "      <th>hour</th>\n",
       "    </tr>\n",
       "    <tr>\n",
       "      <th>date</th>\n",
       "      <th></th>\n",
       "      <th></th>\n",
       "      <th></th>\n",
       "      <th></th>\n",
       "    </tr>\n",
       "  </thead>\n",
       "  <tbody>\n",
       "    <tr>\n",
       "      <th>2018-01-01</th>\n",
       "      <td>1</td>\n",
       "      <td>1</td>\n",
       "      <td>2</td>\n",
       "      <td>0</td>\n",
       "    </tr>\n",
       "    <tr>\n",
       "      <th>2018-01-01</th>\n",
       "      <td>1</td>\n",
       "      <td>1</td>\n",
       "      <td>2</td>\n",
       "      <td>1</td>\n",
       "    </tr>\n",
       "    <tr>\n",
       "      <th>2018-01-01</th>\n",
       "      <td>1</td>\n",
       "      <td>1</td>\n",
       "      <td>2</td>\n",
       "      <td>2</td>\n",
       "    </tr>\n",
       "    <tr>\n",
       "      <th>2018-01-01</th>\n",
       "      <td>1</td>\n",
       "      <td>1</td>\n",
       "      <td>2</td>\n",
       "      <td>3</td>\n",
       "    </tr>\n",
       "    <tr>\n",
       "      <th>2018-01-01</th>\n",
       "      <td>1</td>\n",
       "      <td>1</td>\n",
       "      <td>2</td>\n",
       "      <td>4</td>\n",
       "    </tr>\n",
       "    <tr>\n",
       "      <th>...</th>\n",
       "      <td>...</td>\n",
       "      <td>...</td>\n",
       "      <td>...</td>\n",
       "      <td>...</td>\n",
       "    </tr>\n",
       "    <tr>\n",
       "      <th>2021-03-15</th>\n",
       "      <td>3</td>\n",
       "      <td>15</td>\n",
       "      <td>2</td>\n",
       "      <td>19</td>\n",
       "    </tr>\n",
       "    <tr>\n",
       "      <th>2021-03-15</th>\n",
       "      <td>3</td>\n",
       "      <td>15</td>\n",
       "      <td>2</td>\n",
       "      <td>20</td>\n",
       "    </tr>\n",
       "    <tr>\n",
       "      <th>2021-03-15</th>\n",
       "      <td>3</td>\n",
       "      <td>15</td>\n",
       "      <td>2</td>\n",
       "      <td>21</td>\n",
       "    </tr>\n",
       "    <tr>\n",
       "      <th>2021-03-15</th>\n",
       "      <td>3</td>\n",
       "      <td>15</td>\n",
       "      <td>2</td>\n",
       "      <td>22</td>\n",
       "    </tr>\n",
       "    <tr>\n",
       "      <th>2021-03-15</th>\n",
       "      <td>3</td>\n",
       "      <td>15</td>\n",
       "      <td>2</td>\n",
       "      <td>23</td>\n",
       "    </tr>\n",
       "  </tbody>\n",
       "</table>\n",
       "<p>28080 rows × 4 columns</p>\n",
       "</div>"
      ],
      "text/plain": [
       "            month  day  weekday  hour\n",
       "date                                 \n",
       "2018-01-01      1    1        2     0\n",
       "2018-01-01      1    1        2     1\n",
       "2018-01-01      1    1        2     2\n",
       "2018-01-01      1    1        2     3\n",
       "2018-01-01      1    1        2     4\n",
       "...           ...  ...      ...   ...\n",
       "2021-03-15      3   15        2    19\n",
       "2021-03-15      3   15        2    20\n",
       "2021-03-15      3   15        2    21\n",
       "2021-03-15      3   15        2    22\n",
       "2021-03-15      3   15        2    23\n",
       "\n",
       "[28080 rows x 4 columns]"
      ]
     },
     "execution_count": 14,
     "metadata": {},
     "output_type": "execute_result"
    }
   ],
   "source": [
    "X = df_master[['month','day','weekday','hour']]\n",
    "# X = X.query('month == 1')\n",
    "X"
   ]
  },
  {
   "cell_type": "code",
   "execution_count": 15,
   "metadata": {
    "colab": {
     "base_uri": "https://localhost:8080/"
    },
    "id": "tOwn_vMGauXh",
    "outputId": "1a463322-ad12-4369-f99a-71b8ed5a0e6a"
   },
   "outputs": [
    {
     "data": {
      "text/plain": [
       "array([[ 1,  1,  2,  0],\n",
       "       [ 1,  1,  2,  1],\n",
       "       [ 1,  1,  2,  2],\n",
       "       ...,\n",
       "       [ 3, 15,  2, 21],\n",
       "       [ 3, 15,  2, 22],\n",
       "       [ 3, 15,  2, 23]])"
      ]
     },
     "execution_count": 15,
     "metadata": {},
     "output_type": "execute_result"
    }
   ],
   "source": [
    "X = X.values\n",
    "X"
   ]
  },
  {
   "cell_type": "code",
   "execution_count": 16,
   "metadata": {
    "id": "N7SSglKCauXi"
   },
   "outputs": [
    {
     "data": {
      "text/plain": [
       "array([0., 0., 0., ..., 0., 0., 0.])"
      ]
     },
     "execution_count": 16,
     "metadata": {},
     "output_type": "execute_result"
    }
   ],
   "source": [
    "# add season and festival info to the dataset\n",
    "import datetime\n",
    "iter_date = datetime.date(2018, 1, 1)\n",
    "season = np.zeros((24*1170,))\n",
    "festival = np.zeros((24*1170,))\n",
    "for i in range(1170):\n",
    "    month = iter_date.month\n",
    "    day = iter_date.day\n",
    "    for j in range(24):\n",
    "        if (month==4) | (month==5) | ((month==3) and (day>7)) | ((month==6) and (day<8)):\n",
    "            season[i*24 + j] = 0 #spring\n",
    "        elif (month==7) | (month==8) | ((month==6) and (day>7)) | ((month==9) and (day<8)):\n",
    "            season[i*24 + j] = 1 #summer\n",
    "        elif (month==10) | (month==11) | ((month==9) and (day>7)) | ((month==12) and (day<8)):\n",
    "            season[i*24 + j] = 2 #autumn\n",
    "        elif (month==1) | (month==2) | ((month==12) and (day>7)) | ((month==3) and (day<8)):\n",
    "            season[i*24 + j] = 3 #winter\n",
    "\n",
    "        if (month == 7) and (day == 4):\n",
    "            festival[i*24 + j] = 1\n",
    "        if (month == 11) and (iter_date.weekday() == 4) and (day + 7 > 30):\n",
    "            festival[i*24 + j] = 1\n",
    "        if (month == 12) and (day == 25):\n",
    "            festival[i*24 + j] = 1\n",
    "    iter_date = iter_date + datetime.timedelta(1)\n",
    "festival"
   ]
  },
  {
   "cell_type": "code",
   "execution_count": 17,
   "metadata": {
    "colab": {
     "base_uri": "https://localhost:8080/"
    },
    "id": "MBnfFBKoauX6",
    "outputId": "ae94585f-87ba-4471-c931-89d2d685c1c5"
   },
   "outputs": [
    {
     "data": {
      "text/plain": [
       "array([[ 1,  1,  2,  0],\n",
       "       [ 1,  1,  2,  1],\n",
       "       [ 1,  1,  2,  2],\n",
       "       ...,\n",
       "       [ 3, 15,  2, 21],\n",
       "       [ 3, 15,  2, 22],\n",
       "       [ 3, 15,  2, 23]])"
      ]
     },
     "execution_count": 17,
     "metadata": {},
     "output_type": "execute_result"
    }
   ],
   "source": [
    "season = np.reshape(season,(season.shape[0],1))\n",
    "X_data = np.append(X,season,axis=1)\n",
    "X\n"
   ]
  },
  {
   "cell_type": "code",
   "execution_count": 18,
   "metadata": {
    "colab": {
     "base_uri": "https://localhost:8080/"
    },
    "id": "jzaX2pdnauX7",
    "outputId": "94535038-6a46-4b15-908f-917bd1262b2b"
   },
   "outputs": [
    {
     "data": {
      "text/plain": [
       "array([[[ 1.,  1.,  2.,  0.,  3.]],\n",
       "\n",
       "       [[ 1.,  1.,  2.,  1.,  3.]],\n",
       "\n",
       "       [[ 1.,  1.,  2.,  2.,  3.]],\n",
       "\n",
       "       ...,\n",
       "\n",
       "       [[ 3., 15.,  2., 21.,  0.]],\n",
       "\n",
       "       [[ 3., 15.,  2., 22.,  0.]],\n",
       "\n",
       "       [[ 3., 15.,  2., 23.,  0.]]])"
      ]
     },
     "execution_count": 18,
     "metadata": {},
     "output_type": "execute_result"
    }
   ],
   "source": [
    "X = np.reshape(X_data,(X_data.shape[0],1,X_data.shape[1]))\n",
    "X"
   ]
  },
  {
   "cell_type": "code",
   "execution_count": 19,
   "metadata": {
    "colab": {
     "base_uri": "https://localhost:8080/"
    },
    "id": "kbw99oK4auX8",
    "outputId": "64bca532-08a2-48f4-a283-c3f576d3bd61"
   },
   "outputs": [
    {
     "data": {
      "text/plain": [
       "(28080, 1, 5)"
      ]
     },
     "execution_count": 19,
     "metadata": {},
     "output_type": "execute_result"
    }
   ],
   "source": [
    "X.shape"
   ]
  },
  {
   "cell_type": "code",
   "execution_count": 20,
   "metadata": {
    "id": "x9ph5A6LauX9"
   },
   "outputs": [],
   "source": [
    "# Split the training dataset in 80% / 20%\n",
    "from sklearn.model_selection import train_test_split\n",
    "\n",
    "#dataset splitted into train,val,test as 64%,16%,20%\n",
    "X_train,X_test,Y_train,Y_test = train_test_split( X,Y,test_size=0.2, random_state=42)\n",
    "X_train,X_val,Y_train,Y_val = train_test_split( X_train,Y_train,test_size=0.2, random_state=42)"
   ]
  },
  {
   "cell_type": "code",
   "execution_count": 21,
   "metadata": {
    "colab": {
     "base_uri": "https://localhost:8080/"
    },
    "id": "uYrSncnCauX-",
    "outputId": "5a7d0f41-a5e3-4b4d-cb4b-4e5877121f49"
   },
   "outputs": [
    {
     "data": {
      "text/plain": [
       "(5616, 1, 5)"
      ]
     },
     "execution_count": 21,
     "metadata": {},
     "output_type": "execute_result"
    }
   ],
   "source": [
    "X_test.shape"
   ]
  },
  {
   "cell_type": "code",
   "execution_count": 22,
   "metadata": {
    "colab": {
     "base_uri": "https://localhost:8080/"
    },
    "id": "HEdfOmQUauX_",
    "outputId": "1e8f11e9-b922-44eb-eae7-a17f45836f55"
   },
   "outputs": [
    {
     "data": {
      "text/plain": [
       "1"
      ]
     },
     "execution_count": 22,
     "metadata": {},
     "output_type": "execute_result"
    }
   ],
   "source": [
    "X_train.shape[1]"
   ]
  },
  {
   "cell_type": "code",
   "execution_count": 28,
   "metadata": {
    "id": "5NY96p6nauX_"
   },
   "outputs": [],
   "source": [
    "from keras.models import Sequential\n",
    "from keras.layers import Conv1D, Dropout, Dense, Flatten, LSTM, MaxPooling1D, Bidirectional,GRU\n",
    "from keras.optimizers import Adam\n",
    "from keras.callbacks import EarlyStopping, TensorBoard\n",
    "\n",
    "from keras.layers import TimeDistributed"
   ]
  },
  {
   "cell_type": "code",
   "execution_count": 29,
   "metadata": {
    "id": "kGDHO8RdauYB"
   },
   "outputs": [],
   "source": [
    "# define LSTM\n",
    "model = Sequential()\n",
    "model.add(LSTM(80, input_shape=(1,5),kernel_initializer='uniform', return_sequences=True)) #input shape (1,5) to (1,6)\n",
    "model.add(LSTM(80,kernel_initializer='uniform', activation='selu', return_sequences=True))\n",
    "model.add(LSTM(80, activation='selu'))\n",
    "model.add(Dropout(0.05, input_shape=(80,)))\n",
    "model.add(Dense(20, activation='selu'))\n",
    "model.add(Dense(1, activation='selu'))\n",
    "opt = Adam(learning_rate=0.005)\n",
    "model.compile(loss='mean_absolute_percentage_error', optimizer=opt, metrics=['accuracy'])"
   ]
  },
  {
   "cell_type": "code",
   "execution_count": 30,
   "metadata": {
    "colab": {
     "base_uri": "https://localhost:8080/"
    },
    "id": "kRwz_XKAauYC",
    "outputId": "a3c0407f-65fb-4855-bf91-8d59273f48ac"
   },
   "outputs": [
    {
     "name": "stdout",
     "output_type": "stream",
     "text": [
      "Model: \"sequential\"\n",
      "_________________________________________________________________\n",
      "Layer (type)                 Output Shape              Param #   \n",
      "=================================================================\n",
      "lstm (LSTM)                  (None, 1, 80)             27520     \n",
      "_________________________________________________________________\n",
      "lstm_1 (LSTM)                (None, 1, 80)             51520     \n",
      "_________________________________________________________________\n",
      "lstm_2 (LSTM)                (None, 80)                51520     \n",
      "_________________________________________________________________\n",
      "dropout (Dropout)            (None, 80)                0         \n",
      "_________________________________________________________________\n",
      "dense (Dense)                (None, 20)                1620      \n",
      "_________________________________________________________________\n",
      "dense_1 (Dense)              (None, 1)                 21        \n",
      "=================================================================\n",
      "Total params: 132,201\n",
      "Trainable params: 132,201\n",
      "Non-trainable params: 0\n",
      "_________________________________________________________________\n"
     ]
    }
   ],
   "source": [
    "model.summary()"
   ]
  },
  {
   "cell_type": "code",
   "execution_count": 31,
   "metadata": {
    "colab": {
     "base_uri": "https://localhost:8080/"
    },
    "id": "kcKTGXvnauYD",
    "outputId": "637e244c-637b-4a15-d5a5-c8cacd04399c",
    "scrolled": false
   },
   "outputs": [
    {
     "name": "stdout",
     "output_type": "stream",
     "text": [
      "Epoch 1/200\n",
      "999/999 [==============================] - 8s 8ms/step - loss: 15.1384 - accuracy: 5.5645e-05 - val_loss: 12.8992 - val_accuracy: 0.0000e+00\n",
      "Epoch 2/200\n",
      "999/999 [==============================] - 7s 7ms/step - loss: 12.6830 - accuracy: 5.5645e-05 - val_loss: 13.1493 - val_accuracy: 0.0000e+00\n",
      "Epoch 3/200\n",
      "999/999 [==============================] - 6s 6ms/step - loss: 12.0798 - accuracy: 5.5645e-05 - val_loss: 11.7134 - val_accuracy: 0.0000e+00\n",
      "Epoch 4/200\n",
      "999/999 [==============================] - 7s 7ms/step - loss: 11.7547 - accuracy: 5.5645e-05 - val_loss: 12.8672 - val_accuracy: 0.0000e+00\n",
      "Epoch 5/200\n",
      "999/999 [==============================] - 8s 8ms/step - loss: 11.4774 - accuracy: 5.5645e-05 - val_loss: 11.1393 - val_accuracy: 0.0000e+00\n",
      "Epoch 6/200\n",
      "999/999 [==============================] - 10s 10ms/step - loss: 11.3821 - accuracy: 5.5645e-05 - val_loss: 11.1234 - val_accuracy: 0.0000e+00\n",
      "Epoch 7/200\n",
      "999/999 [==============================] - 13s 13ms/step - loss: 11.1977 - accuracy: 5.5645e-05 - val_loss: 11.1828 - val_accuracy: 0.0000e+00\n",
      "Epoch 8/200\n",
      "999/999 [==============================] - 13s 13ms/step - loss: 11.1172 - accuracy: 5.5645e-05 - val_loss: 11.0897 - val_accuracy: 0.0000e+00\n",
      "Epoch 9/200\n",
      "999/999 [==============================] - 11s 11ms/step - loss: 11.0258 - accuracy: 5.5645e-05 - val_loss: 11.7976 - val_accuracy: 0.0000e+00\n",
      "Epoch 10/200\n",
      "999/999 [==============================] - 12s 12ms/step - loss: 10.9411 - accuracy: 5.5645e-05 - val_loss: 10.9503 - val_accuracy: 0.0000e+00\n",
      "Epoch 11/200\n",
      "999/999 [==============================] - 14s 14ms/step - loss: 10.8820 - accuracy: 5.5645e-05 - val_loss: 11.1745 - val_accuracy: 0.0000e+00\n",
      "Epoch 12/200\n",
      "999/999 [==============================] - 16s 16ms/step - loss: 10.7472 - accuracy: 5.5645e-05 - val_loss: 10.9932 - val_accuracy: 0.0000e+00\n",
      "Epoch 13/200\n",
      "999/999 [==============================] - 11s 11ms/step - loss: 10.7305 - accuracy: 5.5645e-05 - val_loss: 11.1049 - val_accuracy: 0.0000e+00\n",
      "Epoch 14/200\n",
      "999/999 [==============================] - 12s 12ms/step - loss: 10.6654 - accuracy: 5.5645e-05 - val_loss: 11.4357 - val_accuracy: 0.0000e+00\n",
      "Epoch 15/200\n",
      "999/999 [==============================] - 12s 12ms/step - loss: 10.6334 - accuracy: 5.5645e-05 - val_loss: 11.4759 - val_accuracy: 0.0000e+00\n",
      "Epoch 16/200\n",
      "999/999 [==============================] - 13s 13ms/step - loss: 10.5507 - accuracy: 5.5645e-05 - val_loss: 10.9366 - val_accuracy: 0.0000e+00\n",
      "Epoch 17/200\n",
      "999/999 [==============================] - 15s 15ms/step - loss: 10.5597 - accuracy: 5.5645e-05 - val_loss: 10.7642 - val_accuracy: 0.0000e+00\n",
      "Epoch 18/200\n",
      "999/999 [==============================] - 17s 17ms/step - loss: 10.4571 - accuracy: 5.5645e-05 - val_loss: 10.7277 - val_accuracy: 0.0000e+00\n",
      "Epoch 19/200\n",
      "999/999 [==============================] - 22s 22ms/step - loss: 10.4896 - accuracy: 5.5645e-05 - val_loss: 10.5909 - val_accuracy: 0.0000e+00\n",
      "Epoch 20/200\n",
      "999/999 [==============================] - 16s 16ms/step - loss: 10.3997 - accuracy: 5.5645e-05 - val_loss: 10.9797 - val_accuracy: 0.0000e+00\n",
      "Epoch 21/200\n",
      "999/999 [==============================] - 14s 14ms/step - loss: 10.4204 - accuracy: 5.5645e-05 - val_loss: 11.6636 - val_accuracy: 0.0000e+00\n",
      "Epoch 22/200\n",
      "999/999 [==============================] - 12s 12ms/step - loss: 10.3319 - accuracy: 5.5645e-05 - val_loss: 10.9024 - val_accuracy: 0.0000e+00\n",
      "Epoch 23/200\n",
      "999/999 [==============================] - 8s 8ms/step - loss: 10.3391 - accuracy: 5.5645e-05 - val_loss: 10.6391 - val_accuracy: 0.0000e+00\n",
      "Epoch 24/200\n",
      "999/999 [==============================] - 9s 9ms/step - loss: 10.2037 - accuracy: 5.5645e-05 - val_loss: 10.8347 - val_accuracy: 0.0000e+00\n",
      "Epoch 25/200\n",
      "999/999 [==============================] - 9s 9ms/step - loss: 10.1530 - accuracy: 5.5645e-05 - val_loss: 11.1533 - val_accuracy: 0.0000e+00\n",
      "Epoch 26/200\n",
      "999/999 [==============================] - 9s 9ms/step - loss: 10.1116 - accuracy: 5.5645e-05 - val_loss: 10.9820 - val_accuracy: 0.0000e+00\n",
      "Epoch 27/200\n",
      "999/999 [==============================] - 8s 8ms/step - loss: 10.1803 - accuracy: 5.5645e-05 - val_loss: 10.3678 - val_accuracy: 0.0000e+00\n",
      "Epoch 28/200\n",
      "999/999 [==============================] - 6s 6ms/step - loss: 10.0117 - accuracy: 5.5645e-05 - val_loss: 10.5031 - val_accuracy: 0.0000e+00\n",
      "Epoch 29/200\n",
      "999/999 [==============================] - 7s 7ms/step - loss: 9.9292 - accuracy: 5.5645e-05 - val_loss: 10.1033 - val_accuracy: 0.0000e+00\n",
      "Epoch 30/200\n",
      "999/999 [==============================] - 9s 9ms/step - loss: 9.9142 - accuracy: 5.5645e-05 - val_loss: 10.7533 - val_accuracy: 0.0000e+00\n",
      "Epoch 31/200\n",
      "999/999 [==============================] - 9s 9ms/step - loss: 9.9925 - accuracy: 5.5645e-05 - val_loss: 10.1574 - val_accuracy: 0.0000e+00\n",
      "Epoch 32/200\n",
      "999/999 [==============================] - 10s 10ms/step - loss: 9.8494 - accuracy: 5.5645e-05 - val_loss: 10.3655 - val_accuracy: 0.0000e+00\n",
      "Epoch 33/200\n",
      "999/999 [==============================] - 11s 11ms/step - loss: 9.9025 - accuracy: 5.5645e-05 - val_loss: 10.6551 - val_accuracy: 0.0000e+00\n",
      "Epoch 34/200\n",
      "999/999 [==============================] - 10s 10ms/step - loss: 9.9027 - accuracy: 5.5645e-05 - val_loss: 10.3706 - val_accuracy: 0.0000e+00\n",
      "Epoch 35/200\n",
      "999/999 [==============================] - 10s 10ms/step - loss: 9.7512 - accuracy: 5.5645e-05 - val_loss: 10.0821 - val_accuracy: 0.0000e+00\n",
      "Epoch 36/200\n",
      "999/999 [==============================] - 9s 9ms/step - loss: 9.6995 - accuracy: 5.5645e-05 - val_loss: 10.3937 - val_accuracy: 0.0000e+00\n",
      "Epoch 37/200\n",
      "999/999 [==============================] - 10s 10ms/step - loss: 9.7010 - accuracy: 5.5645e-05 - val_loss: 9.9259 - val_accuracy: 0.0000e+00\n",
      "Epoch 38/200\n",
      "999/999 [==============================] - 14s 14ms/step - loss: 9.6506 - accuracy: 5.5645e-05 - val_loss: 9.7883 - val_accuracy: 0.0000e+00\n",
      "Epoch 39/200\n",
      "999/999 [==============================] - 12s 12ms/step - loss: 9.6884 - accuracy: 5.5645e-05 - val_loss: 9.9234 - val_accuracy: 0.0000e+00\n",
      "Epoch 40/200\n",
      "999/999 [==============================] - 12s 12ms/step - loss: 9.5970 - accuracy: 5.5645e-05 - val_loss: 10.1239 - val_accuracy: 0.0000e+00\n",
      "Epoch 41/200\n",
      "999/999 [==============================] - 17s 17ms/step - loss: 9.5194 - accuracy: 5.5645e-05 - val_loss: 9.7118 - val_accuracy: 0.0000e+00\n",
      "Epoch 42/200\n",
      "999/999 [==============================] - 16s 16ms/step - loss: 9.5503 - accuracy: 5.5645e-05 - val_loss: 10.3140 - val_accuracy: 0.0000e+00\n",
      "Epoch 43/200\n",
      "999/999 [==============================] - 11s 11ms/step - loss: 9.5473 - accuracy: 5.5645e-05 - val_loss: 9.7137 - val_accuracy: 0.0000e+00\n",
      "Epoch 44/200\n",
      "999/999 [==============================] - 15s 15ms/step - loss: 9.4615 - accuracy: 5.5645e-05 - val_loss: 10.2733 - val_accuracy: 0.0000e+00\n",
      "Epoch 45/200\n",
      "999/999 [==============================] - 16s 16ms/step - loss: 9.4885 - accuracy: 5.5645e-05 - val_loss: 10.1787 - val_accuracy: 0.0000e+00\n",
      "Epoch 46/200\n",
      "999/999 [==============================] - 17s 17ms/step - loss: 9.4439 - accuracy: 5.5645e-05 - val_loss: 9.5495 - val_accuracy: 0.0000e+00\n",
      "Epoch 47/200\n",
      "999/999 [==============================] - 16s 16ms/step - loss: 9.3557 - accuracy: 5.5645e-05 - val_loss: 9.5647 - val_accuracy: 0.0000e+00\n",
      "Epoch 48/200\n",
      "999/999 [==============================] - 16s 16ms/step - loss: 9.3598 - accuracy: 5.5645e-05 - val_loss: 9.6285 - val_accuracy: 0.0000e+00\n",
      "Epoch 49/200\n",
      "999/999 [==============================] - 14s 14ms/step - loss: 9.3043 - accuracy: 5.5645e-05 - val_loss: 10.0445 - val_accuracy: 0.0000e+00\n",
      "Epoch 50/200\n",
      "999/999 [==============================] - 13s 13ms/step - loss: 9.3454 - accuracy: 5.5645e-05 - val_loss: 9.3492 - val_accuracy: 0.0000e+00\n",
      "Epoch 51/200\n",
      "999/999 [==============================] - 14s 14ms/step - loss: 9.2119 - accuracy: 5.5645e-05 - val_loss: 9.2165 - val_accuracy: 0.0000e+00\n",
      "Epoch 52/200\n",
      "999/999 [==============================] - 12s 12ms/step - loss: 9.2230 - accuracy: 5.5645e-05 - val_loss: 9.6575 - val_accuracy: 0.0000e+00\n",
      "Epoch 53/200\n",
      "999/999 [==============================] - 11s 11ms/step - loss: 9.2079 - accuracy: 5.5645e-05 - val_loss: 9.6303 - val_accuracy: 0.0000e+00\n",
      "Epoch 54/200\n"
     ]
    },
    {
     "name": "stdout",
     "output_type": "stream",
     "text": [
      "999/999 [==============================] - 13s 13ms/step - loss: 9.1686 - accuracy: 5.5645e-05 - val_loss: 9.3832 - val_accuracy: 0.0000e+00\n",
      "Epoch 55/200\n",
      "999/999 [==============================] - 12s 12ms/step - loss: 9.2010 - accuracy: 5.5645e-05 - val_loss: 9.2602 - val_accuracy: 0.0000e+00\n",
      "Epoch 56/200\n",
      "999/999 [==============================] - 24s 24ms/step - loss: 9.1698 - accuracy: 5.5645e-05 - val_loss: 9.6453 - val_accuracy: 0.0000e+00\n",
      "Epoch 57/200\n",
      "999/999 [==============================] - 19s 19ms/step - loss: 9.1214 - accuracy: 5.5645e-05 - val_loss: 9.4077 - val_accuracy: 0.0000e+00\n",
      "Epoch 58/200\n",
      "999/999 [==============================] - 17s 17ms/step - loss: 9.1494 - accuracy: 5.5645e-05 - val_loss: 9.4648 - val_accuracy: 0.0000e+00\n",
      "Epoch 59/200\n",
      "999/999 [==============================] - 14s 14ms/step - loss: 9.0441 - accuracy: 5.5645e-05 - val_loss: 10.0819 - val_accuracy: 0.0000e+00\n",
      "Epoch 60/200\n",
      "999/999 [==============================] - 9s 9ms/step - loss: 9.0787 - accuracy: 5.5645e-05 - val_loss: 9.5060 - val_accuracy: 0.0000e+00\n",
      "Epoch 61/200\n",
      "999/999 [==============================] - 11s 11ms/step - loss: 9.0321 - accuracy: 5.5645e-05 - val_loss: 9.1172 - val_accuracy: 0.0000e+00\n",
      "Epoch 62/200\n",
      "999/999 [==============================] - 16s 16ms/step - loss: 8.9592 - accuracy: 5.5645e-05 - val_loss: 9.4403 - val_accuracy: 0.0000e+00\n",
      "Epoch 63/200\n",
      "999/999 [==============================] - 14s 14ms/step - loss: 8.9381 - accuracy: 5.5645e-05 - val_loss: 9.3413 - val_accuracy: 0.0000e+00\n",
      "Epoch 64/200\n",
      "999/999 [==============================] - 11s 11ms/step - loss: 8.8991 - accuracy: 5.5645e-05 - val_loss: 8.8931 - val_accuracy: 0.0000e+00\n",
      "Epoch 65/200\n",
      "999/999 [==============================] - 15s 15ms/step - loss: 8.8492 - accuracy: 5.5645e-05 - val_loss: 9.4776 - val_accuracy: 0.0000e+00\n",
      "Epoch 66/200\n",
      "999/999 [==============================] - 16s 17ms/step - loss: 8.9237 - accuracy: 5.5645e-05 - val_loss: 8.9362 - val_accuracy: 0.0000e+00\n",
      "Epoch 67/200\n",
      "999/999 [==============================] - 21s 21ms/step - loss: 8.8900 - accuracy: 5.5645e-05 - val_loss: 9.3192 - val_accuracy: 0.0000e+00\n",
      "Epoch 68/200\n",
      "999/999 [==============================] - 17s 17ms/step - loss: 8.8937 - accuracy: 5.5645e-05 - val_loss: 9.7718 - val_accuracy: 0.0000e+00\n",
      "Epoch 69/200\n",
      "999/999 [==============================] - 15s 15ms/step - loss: 8.8790 - accuracy: 5.5645e-05 - val_loss: 9.1576 - val_accuracy: 0.0000e+00\n",
      "Epoch 70/200\n",
      "999/999 [==============================] - 9s 9ms/step - loss: 8.7917 - accuracy: 5.5645e-05 - val_loss: 9.0353 - val_accuracy: 0.0000e+00\n",
      "Epoch 71/200\n",
      "999/999 [==============================] - 9s 9ms/step - loss: 8.7974 - accuracy: 5.5645e-05 - val_loss: 9.6866 - val_accuracy: 0.0000e+00\n",
      "Epoch 72/200\n",
      "999/999 [==============================] - 7s 7ms/step - loss: 8.7287 - accuracy: 5.5645e-05 - val_loss: 9.7577 - val_accuracy: 0.0000e+00\n",
      "Epoch 73/200\n",
      "999/999 [==============================] - 10s 10ms/step - loss: 8.8424 - accuracy: 5.5645e-05 - val_loss: 9.4432 - val_accuracy: 0.0000e+00\n",
      "Epoch 74/200\n",
      "999/999 [==============================] - 8s 8ms/step - loss: 8.7906 - accuracy: 5.5645e-05 - val_loss: 9.3194 - val_accuracy: 0.0000e+00\n",
      "Epoch 75/200\n",
      "999/999 [==============================] - 8s 8ms/step - loss: 8.8673 - accuracy: 5.5645e-05 - val_loss: 9.6856 - val_accuracy: 0.0000e+00\n",
      "Epoch 76/200\n",
      "999/999 [==============================] - 10s 10ms/step - loss: 8.7389 - accuracy: 5.5645e-05 - val_loss: 9.2012 - val_accuracy: 0.0000e+00\n",
      "Epoch 77/200\n",
      "999/999 [==============================] - 9s 9ms/step - loss: 8.7548 - accuracy: 5.5645e-05 - val_loss: 9.5728 - val_accuracy: 0.0000e+00\n",
      "Epoch 78/200\n",
      "999/999 [==============================] - 6s 6ms/step - loss: 8.8017 - accuracy: 5.5645e-05 - val_loss: 9.4928 - val_accuracy: 0.0000e+00\n",
      "Epoch 79/200\n",
      "999/999 [==============================] - 9s 9ms/step - loss: 8.7008 - accuracy: 5.5645e-05 - val_loss: 9.1612 - val_accuracy: 0.0000e+00\n",
      "Epoch 80/200\n",
      "999/999 [==============================] - 9s 9ms/step - loss: 8.6610 - accuracy: 5.5645e-05 - val_loss: 9.2385 - val_accuracy: 0.0000e+00\n",
      "Epoch 81/200\n",
      "999/999 [==============================] - 7s 7ms/step - loss: 8.6920 - accuracy: 5.5645e-05 - val_loss: 9.2226 - val_accuracy: 0.0000e+00\n",
      "Epoch 82/200\n",
      "999/999 [==============================] - 7s 7ms/step - loss: 8.6576 - accuracy: 5.5645e-05 - val_loss: 9.0287 - val_accuracy: 0.0000e+00\n",
      "Epoch 83/200\n",
      "999/999 [==============================] - 6s 6ms/step - loss: 8.6189 - accuracy: 5.5645e-05 - val_loss: 8.9671 - val_accuracy: 0.0000e+00\n",
      "Epoch 84/200\n",
      "999/999 [==============================] - 7s 7ms/step - loss: 8.7597 - accuracy: 5.5645e-05 - val_loss: 9.1099 - val_accuracy: 0.0000e+00\n",
      "Epoch 85/200\n",
      "999/999 [==============================] - 7s 7ms/step - loss: 8.6311 - accuracy: 5.5645e-05 - val_loss: 9.1858 - val_accuracy: 0.0000e+00\n",
      "Epoch 86/200\n",
      "999/999 [==============================] - 7s 7ms/step - loss: 8.6390 - accuracy: 5.5645e-05 - val_loss: 9.2050 - val_accuracy: 0.0000e+00\n",
      "Epoch 87/200\n",
      "999/999 [==============================] - 7s 7ms/step - loss: 8.6498 - accuracy: 5.5645e-05 - val_loss: 8.9938 - val_accuracy: 0.0000e+00\n",
      "Epoch 88/200\n",
      "999/999 [==============================] - 8s 8ms/step - loss: 8.5722 - accuracy: 5.5645e-05 - val_loss: 8.9434 - val_accuracy: 0.0000e+00\n",
      "Epoch 89/200\n",
      "668/999 [===================>..........] - ETA: 2s - loss: 8.6041 - accuracy: 0.0000e+00"
     ]
    },
    {
     "ename": "KeyboardInterrupt",
     "evalue": "",
     "output_type": "error",
     "traceback": [
      "\u001b[0;31m---------------------------------------------------------------------------\u001b[0m",
      "\u001b[0;31mKeyboardInterrupt\u001b[0m                         Traceback (most recent call last)",
      "\u001b[0;32m<ipython-input-31-f1415c2e293e>\u001b[0m in \u001b[0;36m<module>\u001b[0;34m\u001b[0m\n\u001b[1;32m      1\u001b[0m \u001b[0mstart_time\u001b[0m \u001b[0;34m=\u001b[0m \u001b[0mtime\u001b[0m\u001b[0;34m.\u001b[0m\u001b[0mtime\u001b[0m\u001b[0;34m(\u001b[0m\u001b[0;34m)\u001b[0m\u001b[0;34m\u001b[0m\u001b[0;34m\u001b[0m\u001b[0m\n\u001b[0;32m----> 2\u001b[0;31m \u001b[0mhistory\u001b[0m \u001b[0;34m=\u001b[0m \u001b[0mmodel\u001b[0m\u001b[0;34m.\u001b[0m\u001b[0mfit\u001b[0m\u001b[0;34m(\u001b[0m\u001b[0mX_train\u001b[0m\u001b[0;34m,\u001b[0m \u001b[0mY_train\u001b[0m\u001b[0;34m,\u001b[0m \u001b[0mepochs\u001b[0m\u001b[0;34m=\u001b[0m\u001b[0;36m200\u001b[0m\u001b[0;34m,\u001b[0m \u001b[0mshuffle\u001b[0m\u001b[0;34m=\u001b[0m\u001b[0;32mTrue\u001b[0m\u001b[0;34m,\u001b[0m \u001b[0mbatch_size\u001b[0m\u001b[0;34m=\u001b[0m\u001b[0;36m18\u001b[0m\u001b[0;34m,\u001b[0m \u001b[0mvalidation_data\u001b[0m\u001b[0;34m=\u001b[0m\u001b[0;34m(\u001b[0m\u001b[0mX_val\u001b[0m\u001b[0;34m,\u001b[0m\u001b[0mY_val\u001b[0m\u001b[0;34m)\u001b[0m\u001b[0;34m)\u001b[0m\u001b[0;34m\u001b[0m\u001b[0;34m\u001b[0m\u001b[0m\n\u001b[0m\u001b[1;32m      3\u001b[0m \u001b[0mfinish_time\u001b[0m \u001b[0;34m=\u001b[0m \u001b[0mtime\u001b[0m\u001b[0;34m.\u001b[0m\u001b[0mtime\u001b[0m\u001b[0;34m(\u001b[0m\u001b[0;34m)\u001b[0m\u001b[0;34m\u001b[0m\u001b[0;34m\u001b[0m\u001b[0m\n\u001b[1;32m      4\u001b[0m \u001b[0mprint\u001b[0m\u001b[0;34m(\u001b[0m\u001b[0;34m\"--- %s seconds ---\"\u001b[0m \u001b[0;34m%\u001b[0m \u001b[0;34m(\u001b[0m\u001b[0mfinish_time\u001b[0m \u001b[0;34m-\u001b[0m \u001b[0mstart_time\u001b[0m\u001b[0;34m)\u001b[0m\u001b[0;34m)\u001b[0m\u001b[0;34m\u001b[0m\u001b[0;34m\u001b[0m\u001b[0m\n",
      "\u001b[0;32m~/anaconda3/lib/python3.8/site-packages/tensorflow/python/keras/engine/training.py\u001b[0m in \u001b[0;36m_method_wrapper\u001b[0;34m(self, *args, **kwargs)\u001b[0m\n\u001b[1;32m     64\u001b[0m   \u001b[0;32mdef\u001b[0m \u001b[0m_method_wrapper\u001b[0m\u001b[0;34m(\u001b[0m\u001b[0mself\u001b[0m\u001b[0;34m,\u001b[0m \u001b[0;34m*\u001b[0m\u001b[0margs\u001b[0m\u001b[0;34m,\u001b[0m \u001b[0;34m**\u001b[0m\u001b[0mkwargs\u001b[0m\u001b[0;34m)\u001b[0m\u001b[0;34m:\u001b[0m\u001b[0;34m\u001b[0m\u001b[0;34m\u001b[0m\u001b[0m\n\u001b[1;32m     65\u001b[0m     \u001b[0;32mif\u001b[0m \u001b[0;32mnot\u001b[0m \u001b[0mself\u001b[0m\u001b[0;34m.\u001b[0m\u001b[0m_in_multi_worker_mode\u001b[0m\u001b[0;34m(\u001b[0m\u001b[0;34m)\u001b[0m\u001b[0;34m:\u001b[0m  \u001b[0;31m# pylint: disable=protected-access\u001b[0m\u001b[0;34m\u001b[0m\u001b[0;34m\u001b[0m\u001b[0m\n\u001b[0;32m---> 66\u001b[0;31m       \u001b[0;32mreturn\u001b[0m \u001b[0mmethod\u001b[0m\u001b[0;34m(\u001b[0m\u001b[0mself\u001b[0m\u001b[0;34m,\u001b[0m \u001b[0;34m*\u001b[0m\u001b[0margs\u001b[0m\u001b[0;34m,\u001b[0m \u001b[0;34m**\u001b[0m\u001b[0mkwargs\u001b[0m\u001b[0;34m)\u001b[0m\u001b[0;34m\u001b[0m\u001b[0;34m\u001b[0m\u001b[0m\n\u001b[0m\u001b[1;32m     67\u001b[0m \u001b[0;34m\u001b[0m\u001b[0m\n\u001b[1;32m     68\u001b[0m     \u001b[0;31m# Running inside `run_distribute_coordinator` already.\u001b[0m\u001b[0;34m\u001b[0m\u001b[0;34m\u001b[0m\u001b[0;34m\u001b[0m\u001b[0m\n",
      "\u001b[0;32m~/anaconda3/lib/python3.8/site-packages/tensorflow/python/keras/engine/training.py\u001b[0m in \u001b[0;36mfit\u001b[0;34m(self, x, y, batch_size, epochs, verbose, callbacks, validation_split, validation_data, shuffle, class_weight, sample_weight, initial_epoch, steps_per_epoch, validation_steps, validation_batch_size, validation_freq, max_queue_size, workers, use_multiprocessing)\u001b[0m\n\u001b[1;32m    846\u001b[0m                 batch_size=batch_size):\n\u001b[1;32m    847\u001b[0m               \u001b[0mcallbacks\u001b[0m\u001b[0;34m.\u001b[0m\u001b[0mon_train_batch_begin\u001b[0m\u001b[0;34m(\u001b[0m\u001b[0mstep\u001b[0m\u001b[0;34m)\u001b[0m\u001b[0;34m\u001b[0m\u001b[0;34m\u001b[0m\u001b[0m\n\u001b[0;32m--> 848\u001b[0;31m               \u001b[0mtmp_logs\u001b[0m \u001b[0;34m=\u001b[0m \u001b[0mtrain_function\u001b[0m\u001b[0;34m(\u001b[0m\u001b[0miterator\u001b[0m\u001b[0;34m)\u001b[0m\u001b[0;34m\u001b[0m\u001b[0;34m\u001b[0m\u001b[0m\n\u001b[0m\u001b[1;32m    849\u001b[0m               \u001b[0;31m# Catch OutOfRangeError for Datasets of unknown size.\u001b[0m\u001b[0;34m\u001b[0m\u001b[0;34m\u001b[0m\u001b[0;34m\u001b[0m\u001b[0m\n\u001b[1;32m    850\u001b[0m               \u001b[0;31m# This blocks until the batch has finished executing.\u001b[0m\u001b[0;34m\u001b[0m\u001b[0;34m\u001b[0m\u001b[0;34m\u001b[0m\u001b[0m\n",
      "\u001b[0;32m~/anaconda3/lib/python3.8/site-packages/tensorflow/python/eager/def_function.py\u001b[0m in \u001b[0;36m__call__\u001b[0;34m(self, *args, **kwds)\u001b[0m\n\u001b[1;32m    578\u001b[0m         \u001b[0mxla_context\u001b[0m\u001b[0;34m.\u001b[0m\u001b[0mExit\u001b[0m\u001b[0;34m(\u001b[0m\u001b[0;34m)\u001b[0m\u001b[0;34m\u001b[0m\u001b[0;34m\u001b[0m\u001b[0m\n\u001b[1;32m    579\u001b[0m     \u001b[0;32melse\u001b[0m\u001b[0;34m:\u001b[0m\u001b[0;34m\u001b[0m\u001b[0;34m\u001b[0m\u001b[0m\n\u001b[0;32m--> 580\u001b[0;31m       \u001b[0mresult\u001b[0m \u001b[0;34m=\u001b[0m \u001b[0mself\u001b[0m\u001b[0;34m.\u001b[0m\u001b[0m_call\u001b[0m\u001b[0;34m(\u001b[0m\u001b[0;34m*\u001b[0m\u001b[0margs\u001b[0m\u001b[0;34m,\u001b[0m \u001b[0;34m**\u001b[0m\u001b[0mkwds\u001b[0m\u001b[0;34m)\u001b[0m\u001b[0;34m\u001b[0m\u001b[0;34m\u001b[0m\u001b[0m\n\u001b[0m\u001b[1;32m    581\u001b[0m \u001b[0;34m\u001b[0m\u001b[0m\n\u001b[1;32m    582\u001b[0m     \u001b[0;32mif\u001b[0m \u001b[0mtracing_count\u001b[0m \u001b[0;34m==\u001b[0m \u001b[0mself\u001b[0m\u001b[0;34m.\u001b[0m\u001b[0m_get_tracing_count\u001b[0m\u001b[0;34m(\u001b[0m\u001b[0;34m)\u001b[0m\u001b[0;34m:\u001b[0m\u001b[0;34m\u001b[0m\u001b[0;34m\u001b[0m\u001b[0m\n",
      "\u001b[0;32m~/anaconda3/lib/python3.8/site-packages/tensorflow/python/eager/def_function.py\u001b[0m in \u001b[0;36m_call\u001b[0;34m(self, *args, **kwds)\u001b[0m\n\u001b[1;32m    609\u001b[0m       \u001b[0;31m# In this case we have created variables on the first call, so we run the\u001b[0m\u001b[0;34m\u001b[0m\u001b[0;34m\u001b[0m\u001b[0;34m\u001b[0m\u001b[0m\n\u001b[1;32m    610\u001b[0m       \u001b[0;31m# defunned version which is guaranteed to never create variables.\u001b[0m\u001b[0;34m\u001b[0m\u001b[0;34m\u001b[0m\u001b[0;34m\u001b[0m\u001b[0m\n\u001b[0;32m--> 611\u001b[0;31m       \u001b[0;32mreturn\u001b[0m \u001b[0mself\u001b[0m\u001b[0;34m.\u001b[0m\u001b[0m_stateless_fn\u001b[0m\u001b[0;34m(\u001b[0m\u001b[0;34m*\u001b[0m\u001b[0margs\u001b[0m\u001b[0;34m,\u001b[0m \u001b[0;34m**\u001b[0m\u001b[0mkwds\u001b[0m\u001b[0;34m)\u001b[0m  \u001b[0;31m# pylint: disable=not-callable\u001b[0m\u001b[0;34m\u001b[0m\u001b[0;34m\u001b[0m\u001b[0m\n\u001b[0m\u001b[1;32m    612\u001b[0m     \u001b[0;32melif\u001b[0m \u001b[0mself\u001b[0m\u001b[0;34m.\u001b[0m\u001b[0m_stateful_fn\u001b[0m \u001b[0;32mis\u001b[0m \u001b[0;32mnot\u001b[0m \u001b[0;32mNone\u001b[0m\u001b[0;34m:\u001b[0m\u001b[0;34m\u001b[0m\u001b[0;34m\u001b[0m\u001b[0m\n\u001b[1;32m    613\u001b[0m       \u001b[0;31m# Release the lock early so that multiple threads can perform the call\u001b[0m\u001b[0;34m\u001b[0m\u001b[0;34m\u001b[0m\u001b[0;34m\u001b[0m\u001b[0m\n",
      "\u001b[0;32m~/anaconda3/lib/python3.8/site-packages/tensorflow/python/eager/function.py\u001b[0m in \u001b[0;36m__call__\u001b[0;34m(self, *args, **kwargs)\u001b[0m\n\u001b[1;32m   2418\u001b[0m     \u001b[0;32mwith\u001b[0m \u001b[0mself\u001b[0m\u001b[0;34m.\u001b[0m\u001b[0m_lock\u001b[0m\u001b[0;34m:\u001b[0m\u001b[0;34m\u001b[0m\u001b[0;34m\u001b[0m\u001b[0m\n\u001b[1;32m   2419\u001b[0m       \u001b[0mgraph_function\u001b[0m\u001b[0;34m,\u001b[0m \u001b[0margs\u001b[0m\u001b[0;34m,\u001b[0m \u001b[0mkwargs\u001b[0m \u001b[0;34m=\u001b[0m \u001b[0mself\u001b[0m\u001b[0;34m.\u001b[0m\u001b[0m_maybe_define_function\u001b[0m\u001b[0;34m(\u001b[0m\u001b[0margs\u001b[0m\u001b[0;34m,\u001b[0m \u001b[0mkwargs\u001b[0m\u001b[0;34m)\u001b[0m\u001b[0;34m\u001b[0m\u001b[0;34m\u001b[0m\u001b[0m\n\u001b[0;32m-> 2420\u001b[0;31m     \u001b[0;32mreturn\u001b[0m \u001b[0mgraph_function\u001b[0m\u001b[0;34m.\u001b[0m\u001b[0m_filtered_call\u001b[0m\u001b[0;34m(\u001b[0m\u001b[0margs\u001b[0m\u001b[0;34m,\u001b[0m \u001b[0mkwargs\u001b[0m\u001b[0;34m)\u001b[0m  \u001b[0;31m# pylint: disable=protected-access\u001b[0m\u001b[0;34m\u001b[0m\u001b[0;34m\u001b[0m\u001b[0m\n\u001b[0m\u001b[1;32m   2421\u001b[0m \u001b[0;34m\u001b[0m\u001b[0m\n\u001b[1;32m   2422\u001b[0m   \u001b[0;34m@\u001b[0m\u001b[0mproperty\u001b[0m\u001b[0;34m\u001b[0m\u001b[0;34m\u001b[0m\u001b[0m\n",
      "\u001b[0;32m~/anaconda3/lib/python3.8/site-packages/tensorflow/python/eager/function.py\u001b[0m in \u001b[0;36m_filtered_call\u001b[0;34m(self, args, kwargs)\u001b[0m\n\u001b[1;32m   1659\u001b[0m       \u001b[0;31m`\u001b[0m\u001b[0margs\u001b[0m\u001b[0;31m`\u001b[0m \u001b[0;32mand\u001b[0m\u001b[0;31m \u001b[0m\u001b[0;31m`\u001b[0m\u001b[0mkwargs\u001b[0m\u001b[0;31m`\u001b[0m\u001b[0;34m.\u001b[0m\u001b[0;34m\u001b[0m\u001b[0;34m\u001b[0m\u001b[0m\n\u001b[1;32m   1660\u001b[0m     \"\"\"\n\u001b[0;32m-> 1661\u001b[0;31m     return self._call_flat(\n\u001b[0m\u001b[1;32m   1662\u001b[0m         (t for t in nest.flatten((args, kwargs), expand_composites=True)\n\u001b[1;32m   1663\u001b[0m          if isinstance(t, (ops.Tensor,\n",
      "\u001b[0;32m~/anaconda3/lib/python3.8/site-packages/tensorflow/python/eager/function.py\u001b[0m in \u001b[0;36m_call_flat\u001b[0;34m(self, args, captured_inputs, cancellation_manager)\u001b[0m\n\u001b[1;32m   1743\u001b[0m         and executing_eagerly):\n\u001b[1;32m   1744\u001b[0m       \u001b[0;31m# No tape is watching; skip to running the function.\u001b[0m\u001b[0;34m\u001b[0m\u001b[0;34m\u001b[0m\u001b[0;34m\u001b[0m\u001b[0m\n\u001b[0;32m-> 1745\u001b[0;31m       return self._build_call_outputs(self._inference_function.call(\n\u001b[0m\u001b[1;32m   1746\u001b[0m           ctx, args, cancellation_manager=cancellation_manager))\n\u001b[1;32m   1747\u001b[0m     forward_backward = self._select_forward_and_backward_functions(\n",
      "\u001b[0;32m~/anaconda3/lib/python3.8/site-packages/tensorflow/python/eager/function.py\u001b[0m in \u001b[0;36mcall\u001b[0;34m(self, ctx, args, cancellation_manager)\u001b[0m\n\u001b[1;32m    591\u001b[0m       \u001b[0;32mwith\u001b[0m \u001b[0m_InterpolateFunctionError\u001b[0m\u001b[0;34m(\u001b[0m\u001b[0mself\u001b[0m\u001b[0;34m)\u001b[0m\u001b[0;34m:\u001b[0m\u001b[0;34m\u001b[0m\u001b[0;34m\u001b[0m\u001b[0m\n\u001b[1;32m    592\u001b[0m         \u001b[0;32mif\u001b[0m \u001b[0mcancellation_manager\u001b[0m \u001b[0;32mis\u001b[0m \u001b[0;32mNone\u001b[0m\u001b[0;34m:\u001b[0m\u001b[0;34m\u001b[0m\u001b[0;34m\u001b[0m\u001b[0m\n\u001b[0;32m--> 593\u001b[0;31m           outputs = execute.execute(\n\u001b[0m\u001b[1;32m    594\u001b[0m               \u001b[0mstr\u001b[0m\u001b[0;34m(\u001b[0m\u001b[0mself\u001b[0m\u001b[0;34m.\u001b[0m\u001b[0msignature\u001b[0m\u001b[0;34m.\u001b[0m\u001b[0mname\u001b[0m\u001b[0;34m)\u001b[0m\u001b[0;34m,\u001b[0m\u001b[0;34m\u001b[0m\u001b[0;34m\u001b[0m\u001b[0m\n\u001b[1;32m    595\u001b[0m               \u001b[0mnum_outputs\u001b[0m\u001b[0;34m=\u001b[0m\u001b[0mself\u001b[0m\u001b[0;34m.\u001b[0m\u001b[0m_num_outputs\u001b[0m\u001b[0;34m,\u001b[0m\u001b[0;34m\u001b[0m\u001b[0;34m\u001b[0m\u001b[0m\n",
      "\u001b[0;32m~/anaconda3/lib/python3.8/site-packages/tensorflow/python/eager/execute.py\u001b[0m in \u001b[0;36mquick_execute\u001b[0;34m(op_name, num_outputs, inputs, attrs, ctx, name)\u001b[0m\n\u001b[1;32m     57\u001b[0m   \u001b[0;32mtry\u001b[0m\u001b[0;34m:\u001b[0m\u001b[0;34m\u001b[0m\u001b[0;34m\u001b[0m\u001b[0m\n\u001b[1;32m     58\u001b[0m     \u001b[0mctx\u001b[0m\u001b[0;34m.\u001b[0m\u001b[0mensure_initialized\u001b[0m\u001b[0;34m(\u001b[0m\u001b[0;34m)\u001b[0m\u001b[0;34m\u001b[0m\u001b[0;34m\u001b[0m\u001b[0m\n\u001b[0;32m---> 59\u001b[0;31m     tensors = pywrap_tfe.TFE_Py_Execute(ctx._handle, device_name, op_name,\n\u001b[0m\u001b[1;32m     60\u001b[0m                                         inputs, attrs, num_outputs)\n\u001b[1;32m     61\u001b[0m   \u001b[0;32mexcept\u001b[0m \u001b[0mcore\u001b[0m\u001b[0;34m.\u001b[0m\u001b[0m_NotOkStatusException\u001b[0m \u001b[0;32mas\u001b[0m \u001b[0me\u001b[0m\u001b[0;34m:\u001b[0m\u001b[0;34m\u001b[0m\u001b[0;34m\u001b[0m\u001b[0m\n",
      "\u001b[0;31mKeyboardInterrupt\u001b[0m: "
     ]
    }
   ],
   "source": [
    "start_time = time.time()\n",
    "history = model.fit(X_train, Y_train, epochs=200, shuffle=True, batch_size=18, validation_data=(X_val,Y_val))\n",
    "finish_time = time.time()\n",
    "print(\"--- %s seconds ---\" % (finish_time - start_time))"
   ]
  },
  {
   "cell_type": "code",
   "execution_count": 25,
   "metadata": {
    "colab": {
     "base_uri": "https://localhost:8080/"
    },
    "id": "0RsmkF0cauYP",
    "outputId": "17bc5eba-eaef-4f58-8193-0fc63dfae969"
   },
   "outputs": [
    {
     "name": "stdout",
     "output_type": "stream",
     "text": [
      "21.84716727733612 minutes\n"
     ]
    }
   ],
   "source": [
    "print((finish_time - start_time)/60,'minutes')"
   ]
  },
  {
   "cell_type": "code",
   "execution_count": 26,
   "metadata": {
    "colab": {
     "base_uri": "https://localhost:8080/",
     "height": 282
    },
    "id": "FA4rQe_8auYR",
    "outputId": "acf807bb-7738-4c64-9d46-d91ade42853d"
   },
   "outputs": [
    {
     "data": {
      "text/plain": [
       "<matplotlib.legend.Legend at 0x7f399bbf7790>"
      ]
     },
     "execution_count": 26,
     "metadata": {
      "tags": []
     },
     "output_type": "execute_result"
    },
    {
     "data": {
      "image/png": "[encoded data removed]",
      "text/plain": [
       "<Figure size 432x288 with 1 Axes>"
      ]
     },
     "metadata": {
      "needs_background": "light",
      "tags": []
     },
     "output_type": "display_data"
    }
   ],
   "source": [
    "loss = history.history['loss']\n",
    "val_loss = history.history['val_loss']\n",
    "plt.plot([i for i in range(len(loss))],loss)\n",
    "plt.plot([i for i in range(len(val_loss))],val_loss)\n",
    "plt.legend(['train loss','validation loss'])"
   ]
  },
  {
   "cell_type": "code",
   "execution_count": 27,
   "metadata": {
    "colab": {
     "base_uri": "https://localhost:8080/"
    },
    "id": "lCF-XGMdauYS",
    "outputId": "59efe2f5-261d-483d-e944-097c270c369f"
   },
   "outputs": [
    {
     "name": "stdout",
     "output_type": "stream",
     "text": [
      "176/176 [==============================] - 0s 2ms/step - loss: 6.8611 - accuracy: 0.0000e+00\n",
      "TEST MAPE : 6.8611345291137695\n"
     ]
    }
   ],
   "source": [
    "scores = model.evaluate(X_test, Y_test)\n",
    "print(\"TEST MAPE :\",scores[0])"
   ]
  },
  {
   "cell_type": "code",
   "execution_count": 28,
   "metadata": {
    "colab": {
     "base_uri": "https://localhost:8080/"
    },
    "id": "ExzxsI7SauYT",
    "outputId": "e6eb2a07-567c-4812-f3cf-02ffaaa5d15c"
   },
   "outputs": [
    {
     "data": {
      "text/plain": [
       "[6.8611345291137695, 0.0]"
      ]
     },
     "execution_count": 28,
     "metadata": {
      "tags": []
     },
     "output_type": "execute_result"
    }
   ],
   "source": [
    "scores"
   ]
  },
  {
   "cell_type": "code",
   "execution_count": 29,
   "metadata": {
    "id": "6odPZ25oauYU"
   },
   "outputs": [],
   "source": [
    "def give_daily_demand(df,y):\n",
    "    '''\n",
    "    It returns the daily load demand vs hour for a specific year.\n",
    "    \n",
    "    df = dataframe\n",
    "    y = year\n",
    "    \n",
    "    '''\n",
    "    monthDict={1:'Jan', 2:'Feb', 3:'Mar', 4:'Apr', 5:'May', 6:'Jun', 7:'Jul', 8:'Aug', 9:'Sep', 10:'Oct', 11:'Nov', 12:'Dec'}\n",
    "    dfx = df.loc[df.year==y]\n",
    "\n",
    "    for i,m in enumerate(set(dfx.month)):\n",
    "        if m in set(dfx.month):\n",
    "            dfxx = dfx.loc[dfx.month==m]\n",
    "            #print(monthDict[m],end=' ')\n",
    "            for d in range(1,31):\n",
    "                if d in set(dfxx.day):\n",
    "                    #print(d)\n",
    "                    dfxxx = dfxx.loc[dfxx.day==d]\n",
    "                    ttl = str('Year: '+str(y)+' Month: '+str(monthDict[m])+' '+str(d))\n",
    "                    #plt.figure(ttl)\n",
    "                    #plt.plot(dfxxx.hour,dfxxx.demand)\n",
    "                    #print(dfxxx)\n",
    "                    #plt.title(ttl)\n",
    "        return dfxxx,ttl"
   ]
  },
  {
   "cell_type": "code",
   "execution_count": 30,
   "metadata": {
    "colab": {
     "base_uri": "https://localhost:8080/"
    },
    "id": "edxIkUtjauYW",
    "outputId": "079c5152-b354-49c9-c065-9d093e163487"
   },
   "outputs": [
    {
     "name": "stdout",
     "output_type": "stream",
     "text": [
      "            year  month  day  weekday  hour  demand\n",
      "date                                               \n",
      "2020-01-30  2020      1   30        5     0  7000.0\n",
      "2020-01-30  2020      1   30        5     1  6508.0\n",
      "2020-01-30  2020      1   30        5     2  6176.0\n",
      "2020-01-30  2020      1   30        5     3  5969.0\n",
      "2020-01-30  2020      1   30        5     4  5838.0\n",
      "2020-01-30  2020      1   30        5     5  5792.0\n",
      "2020-01-30  2020      1   30        5     6  6090.0\n",
      "2020-01-30  2020      1   30        5     7  6721.0\n",
      "2020-01-30  2020      1   30        5     8  7259.0\n",
      "2020-01-30  2020      1   30        5     9  7608.0\n",
      "2020-01-30  2020      1   30        5    10  7677.0\n",
      "2020-01-30  2020      1   30        5    11  7637.0\n",
      "2020-01-30  2020      1   30        5    12  7827.0\n",
      "2020-01-30  2020      1   30        5    13  7756.0\n",
      "2020-01-30  2020      1   30        5    14  7339.0\n",
      "2020-01-30  2020      1   30        5    15  7235.0\n",
      "2020-01-30  2020      1   30        5    16  7109.0\n",
      "2020-01-30  2020      1   30        5    17  7211.0\n",
      "2020-01-30  2020      1   30        5    18  8364.0\n",
      "2020-01-30  2020      1   30        5    19  8679.5\n",
      "2020-01-30  2020      1   30        5    20  8995.0\n",
      "2020-01-30  2020      1   30        5    21  8705.0\n",
      "2020-01-30  2020      1   30        5    22  8124.0\n",
      "2020-01-30  2020      1   30        5    23  7625.0\n"
     ]
    }
   ],
   "source": [
    "dfxxx,ttl = give_daily_demand(df_master,2020)\n",
    "print(dfxxx)"
   ]
  },
  {
   "cell_type": "code",
   "execution_count": 31,
   "metadata": {
    "id": "m82dlbGXauYX"
   },
   "outputs": [],
   "source": [
    "test_y = []\n",
    "true_y = []\n",
    "for i in range(48,24*3):\n",
    "    test = X[i]\n",
    "    true_y.append(Y[i]*D_max)\n",
    "    test = test.reshape(1,1,5)\n",
    "    y = model.predict(test)\n",
    "    test_y.append(y[0][0]*D_max)"
   ]
  },
  {
   "cell_type": "code",
   "execution_count": 32,
   "metadata": {
    "colab": {
     "base_uri": "https://localhost:8080/",
     "height": 282
    },
    "id": "bV8USa8iauYX",
    "outputId": "37cf4765-42d8-4dfb-9ddb-5fb15be29eaa"
   },
   "outputs": [
    {
     "data": {
      "text/plain": [
       "<matplotlib.legend.Legend at 0x7f399b9a84d0>"
      ]
     },
     "execution_count": 32,
     "metadata": {
      "tags": []
     },
     "output_type": "execute_result"
    },
    {
     "data": {
      "image/png": "[encoded data removed]",
      "text/plain": [
       "<Figure size 432x288 with 1 Axes>"
      ]
     },
     "metadata": {
      "needs_background": "light",
      "tags": []
     },
     "output_type": "display_data"
    }
   ],
   "source": [
    "plt.plot(test_y)\n",
    "plt.plot(true_y)\n",
    "plt.legend(['PREDICTED','ACTUAL'])"
   ]
  },
  {
   "cell_type": "code",
   "execution_count": 33,
   "metadata": {
    "colab": {
     "base_uri": "https://localhost:8080/"
    },
    "id": "_X4XMbcuauYc",
    "outputId": "dd6bf2ee-2edb-46e8-f2a2-6c02335ac4c7"
   },
   "outputs": [
    {
     "data": {
      "text/plain": [
       "(5616,)"
      ]
     },
     "execution_count": 33,
     "metadata": {
      "tags": []
     },
     "output_type": "execute_result"
    }
   ],
   "source": [
    "y_pred=model.predict(X_test)\n",
    "y_pred.shape\n",
    "# Y_test.shape\n",
    "y_pred.shape\n",
    "Y_test.shape"
   ]
  },
  {
   "cell_type": "code",
   "execution_count": 34,
   "metadata": {
    "id": "YjNrkf0fauYj"
   },
   "outputs": [],
   "source": [
    "from sklearn.metrics import accuracy_score"
   ]
  },
  {
   "cell_type": "code",
   "execution_count": 35,
   "metadata": {
    "colab": {
     "base_uri": "https://localhost:8080/"
    },
    "id": "n4jmMsj9auYk",
    "outputId": "718fb885-d712-41e2-f6db-600623522204"
   },
   "outputs": [
    {
     "data": {
      "text/plain": [
       "(5616,)"
      ]
     },
     "execution_count": 35,
     "metadata": {
      "tags": []
     },
     "output_type": "execute_result"
    }
   ],
   "source": [
    "y_pred.shape\n",
    "Y_test.shape"
   ]
  },
  {
   "cell_type": "code",
   "execution_count": null,
   "metadata": {
    "id": "qgJzMCe6auYk"
   },
   "outputs": [],
   "source": [
    "# Y_test=Y_test.reshape(5616,1)"
   ]
  },
  {
   "cell_type": "code",
   "execution_count": 36,
   "metadata": {
    "colab": {
     "base_uri": "https://localhost:8080/"
    },
    "id": "6azAQNGrauYn",
    "outputId": "f1296a14-e550-4ab1-aea9-c8133ab7cfa8"
   },
   "outputs": [
    {
     "data": {
      "text/plain": [
       "(5616, 1, 5)"
      ]
     },
     "execution_count": 36,
     "metadata": {
      "tags": []
     },
     "output_type": "execute_result"
    }
   ],
   "source": [
    "X_test.shape"
   ]
  },
  {
   "cell_type": "code",
   "execution_count": 37,
   "metadata": {
    "colab": {
     "base_uri": "https://localhost:8080/"
    },
    "id": "Ff_-YYGyauYn",
    "outputId": "30e5f731-9fdf-422e-efe2-03d30c45e4e1"
   },
   "outputs": [
    {
     "data": {
      "text/plain": [
       "(5616, 1)"
      ]
     },
     "execution_count": 37,
     "metadata": {
      "tags": []
     },
     "output_type": "execute_result"
    }
   ],
   "source": [
    "y_pred=model.predict(X_test)\n",
    "y_pred.shape"
   ]
  },
  {
   "cell_type": "code",
   "execution_count": 38,
   "metadata": {
    "colab": {
     "base_uri": "https://localhost:8080/"
    },
    "id": "09ei95RfauYo",
    "outputId": "dbe11171-d360-4564-8019-d879d886d7e2"
   },
   "outputs": [
    {
     "data": {
      "text/plain": [
       "(5616, 1)"
      ]
     },
     "execution_count": 38,
     "metadata": {
      "tags": []
     },
     "output_type": "execute_result"
    }
   ],
   "source": [
    "Y_test=Y_test.reshape(5616,1)\n",
    "Y_test.shape\n"
   ]
  },
  {
   "cell_type": "code",
   "execution_count": 39,
   "metadata": {
    "colab": {
     "base_uri": "https://localhost:8080/",
     "height": 282
    },
    "id": "Ar-JnGqaauYu",
    "outputId": "7053a51b-4bd5-43d4-f923-195f62c10f77"
   },
   "outputs": [
    {
     "data": {
      "text/plain": [
       "<matplotlib.legend.Legend at 0x7f399ba53a50>"
      ]
     },
     "execution_count": 39,
     "metadata": {
      "tags": []
     },
     "output_type": "execute_result"
    },
    {
     "data": {
      "image/png": "[encoded data removed]",
      "text/plain": [
       "<Figure size 432x288 with 1 Axes>"
      ]
     },
     "metadata": {
      "needs_background": "light",
      "tags": []
     },
     "output_type": "display_data"
    }
   ],
   "source": [
    "plt.plot(y_pred[0:20,0])\n",
    "plt.plot(Y_test[0:20,0])\n",
    "plt.legend(['PREDICTED','ACTUAL'])"
   ]
  },
  {
   "cell_type": "code",
   "execution_count": null,
   "metadata": {
    "id": "wJXSFAUNauY8"
   },
   "outputs": [],
   "source": []
  },
  {
   "cell_type": "code",
   "execution_count": null,
   "metadata": {
    "id": "9Uo3pfubauY8"
   },
   "outputs": [],
   "source": []
  },
  {
   "cell_type": "code",
   "execution_count": null,
   "metadata": {
    "id": "3JBaSXCwauY9"
   },
   "outputs": [],
   "source": [
    "# define LSTM\n",
    "# model = Sequential()\n",
    "# model.add(LSTM(80, input_shape=(1,5),kernel_initializer='uniform', return_sequences=True)) #input shape (1,5) to (1,6)\n",
    "# model.add(LSTM(80,kernel_initializer='uniform', activation='selu', return_sequences=True))\n",
    "# model.add(LSTM(80, activation='selu'))\n",
    "# model.add(Dropout(0.05, input_shape=(80,)))\n",
    "# model.add(Dense(20, activation='selu'))\n",
    "# model.add(Dense(1, activation='selu'))\n",
    "# opt = Adam(learning_rate=0.005)\n",
    "# model.compile(loss='mean_absolute_percentage_error', optimizer=opt, metrics=['accuracy'])"
   ]
  },
  {
   "cell_type": "code",
   "execution_count": 40,
   "metadata": {
    "id": "UXVsYwQT9oGd"
   },
   "outputs": [],
   "source": [
    "nsamples, nx, ny = X_train.shape\n",
    "d2_train_dataset = X_train.reshape((nsamples,nx*ny))"
   ]
  },
  {
   "cell_type": "code",
   "execution_count": 41,
   "metadata": {
    "colab": {
     "base_uri": "https://localhost:8080/"
    },
    "id": "8rfq3axK9ttq",
    "outputId": "610af9a9-1d91-4d87-a9fb-1f548294d137"
   },
   "outputs": [
    {
     "data": {
      "text/plain": [
       "RandomForestRegressor(bootstrap=True, ccp_alpha=0.0, criterion='mse',\n",
       "                      max_depth=None, max_features='auto', max_leaf_nodes=None,\n",
       "                      max_samples=None, min_impurity_decrease=0.0,\n",
       "                      min_impurity_split=None, min_samples_leaf=1,\n",
       "                      min_samples_split=2, min_weight_fraction_leaf=0.0,\n",
       "                      n_estimators=1, n_jobs=None, oob_score=False,\n",
       "                      random_state=None, verbose=0, warm_start=False)"
      ]
     },
     "execution_count": 41,
     "metadata": {
      "tags": []
     },
     "output_type": "execute_result"
    }
   ],
   "source": [
    "from sklearn.ensemble import RandomForestRegressor\n",
    "cls = RandomForestRegressor(n_estimators=1)\n",
    "cls.fit(d2_train_dataset,Y_train)"
   ]
  },
  {
   "cell_type": "code",
   "execution_count": 42,
   "metadata": {
    "id": "VmZ7h-ll9xHi"
   },
   "outputs": [],
   "source": [
    "nsamples, nx, ny = X_test.shape\n",
    "d2_test_dataset = X_test.reshape((nsamples,nx*ny))"
   ]
  },
  {
   "cell_type": "code",
   "execution_count": 43,
   "metadata": {
    "id": "YL05yFBH92KI"
   },
   "outputs": [],
   "source": [
    "sk_pred=cls.predict(d2_test_dataset)"
   ]
  },
  {
   "cell_type": "code",
   "execution_count": 44,
   "metadata": {
    "colab": {
     "base_uri": "https://localhost:8080/",
     "height": 282
    },
    "id": "jVtNtJ4J94oH",
    "outputId": "86b18e21-00d0-4bd2-fb1a-09f18ccb6c8f"
   },
   "outputs": [
    {
     "data": {
      "text/plain": [
       "<matplotlib.legend.Legend at 0x7f399b66ae50>"
      ]
     },
     "execution_count": 44,
     "metadata": {
      "tags": []
     },
     "output_type": "execute_result"
    },
    {
     "data": {
      "image/png": "[encoded data removed]",
      "text/plain": [
       "<Figure size 432x288 with 1 Axes>"
      ]
     },
     "metadata": {
      "needs_background": "light",
      "tags": []
     },
     "output_type": "display_data"
    }
   ],
   "source": [
    "plt.plot(sk_pred[48:24*3]*D_max)\n",
    "plt.plot(Y_test[48:24*3]*D_max)\n",
    "plt.legend(['PREDICTED(RF)','ACTUAL'])"
   ]
  },
  {
   "cell_type": "code",
   "execution_count": 45,
   "metadata": {
    "colab": {
     "base_uri": "https://localhost:8080/"
    },
    "id": "pdogvfHa-Cww",
    "outputId": "eefe7921-41d2-4846-a154-72d8f6b27736"
   },
   "outputs": [
    {
     "data": {
      "text/plain": [
       "array([0.14317967, 0.15746958, 0.09909369, 0.26976954, 0.33048752])"
      ]
     },
     "execution_count": 45,
     "metadata": {
      "tags": []
     },
     "output_type": "execute_result"
    }
   ],
   "source": [
    "cls.feature_importances_"
   ]
  },
  {
   "cell_type": "code",
   "execution_count": 46,
   "metadata": {
    "colab": {
     "base_uri": "https://localhost:8080/"
    },
    "id": "3fxOvi0n-F_e",
    "outputId": "be2a70dc-9e0c-46a3-e1bc-83f79a6e3a3e"
   },
   "outputs": [
    {
     "name": "stdout",
     "output_type": "stream",
     "text": [
      "Feature: 0, Score: 0.14318\n",
      "Feature: 1, Score: 0.15747\n",
      "Feature: 2, Score: 0.09909\n",
      "Feature: 3, Score: 0.26977\n",
      "Feature: 4, Score: 0.33049\n"
     ]
    }
   ],
   "source": [
    "importance = cls.feature_importances_\n",
    "# summarize feature importance\n",
    "for i,v in enumerate(importance):\n",
    "\tprint('Feature: %0d, Score: %.5f' % (i,v))"
   ]
  },
  {
   "cell_type": "code",
   "execution_count": 47,
   "metadata": {
    "colab": {
     "base_uri": "https://localhost:8080/"
    },
    "id": "qvS-80Rm-M4C",
    "outputId": "d1b7cd5e-a9e3-4550-d9f6-070fa7d4414f"
   },
   "outputs": [
    {
     "data": {
      "text/plain": [
       "(5,)"
      ]
     },
     "execution_count": 47,
     "metadata": {
      "tags": []
     },
     "output_type": "execute_result"
    }
   ],
   "source": [
    "importance.shape"
   ]
  },
  {
   "cell_type": "code",
   "execution_count": 48,
   "metadata": {
    "colab": {
     "base_uri": "https://localhost:8080/",
     "height": 265
    },
    "id": "FpPoi8GC-PcI",
    "outputId": "5164c2e8-b6bf-445c-bf4d-dc9e7bed79f9"
   },
   "outputs": [
    {
     "data": {
      "image/png": "[encoded data removed]",
      "text/plain": [
       "<Figure size 432x288 with 1 Axes>"
      ]
     },
     "metadata": {
      "needs_background": "light",
      "tags": []
     },
     "output_type": "display_data"
    }
   ],
   "source": [
    "from matplotlib import pyplot\n",
    "pyplot.bar([x for x in range(len(importance))], importance)\n",
    "pyplot.show()"
   ]
  },
  {
   "cell_type": "code",
   "execution_count": 49,
   "metadata": {
    "colab": {
     "base_uri": "https://localhost:8080/"
    },
    "id": "kJF0tR8R-S07",
    "outputId": "54f7ef2a-4167-4296-bf90-ef4f4c5ffc75"
   },
   "outputs": [
    {
     "data": {
      "text/plain": [
       "array([0.14317967, 0.15746958, 0.09909369, 0.26976954, 0.33048752])"
      ]
     },
     "execution_count": 49,
     "metadata": {
      "tags": []
     },
     "output_type": "execute_result"
    }
   ],
   "source": [
    "cls.feature_importances_"
   ]
  },
  {
   "cell_type": "code",
   "execution_count": 50,
   "metadata": {
    "id": "64LyJ1W6-VYg"
   },
   "outputs": [],
   "source": [
    "import sklearn.metrics\n",
    "from sklearn.metrics import mean_squared_error"
   ]
  },
  {
   "cell_type": "code",
   "execution_count": 88,
   "metadata": {
    "id": "uMq0eL0v-Ymz"
   },
   "outputs": [],
   "source": [
    "def percentage_error(actual, predicted):\n",
    "    res = np.empty(actual.shape)\n",
    "    for j in range(actual.shape[0]):\n",
    "        if actual[j] != 0:\n",
    "            res[j] = (actual[j] - predicted[j]) / actual[j]\n",
    "        else:\n",
    "            res[j] = predicted[j] / np.mean(actual)\n",
    "    return res\n",
    "\n",
    "def mean_absolute_percentage_error(y_true, y_pred): \n",
    "    return np.mean(np.abs(percentage_error(np.asarray(y_true), np.asarray(y_pred)))) * 100"
   ]
  },
  {
   "cell_type": "code",
   "execution_count": 89,
   "metadata": {
    "colab": {
     "base_uri": "https://localhost:8080/"
    },
    "id": "QB6Bluez-dCA",
    "outputId": "4a25401a-d8a7-4cf0-94c9-b80e2e6e50b1"
   },
   "outputs": [
    {
     "data": {
      "text/plain": [
       "8.929044412055642"
      ]
     },
     "execution_count": 89,
     "metadata": {
      "tags": []
     },
     "output_type": "execute_result"
    }
   ],
   "source": [
    "MAPE_RF=mean_absolute_percentage_error(Y_test,sk_pred)\n",
    "MAPE_RF"
   ]
  },
  {
   "cell_type": "code",
   "execution_count": 90,
   "metadata": {
    "colab": {
     "base_uri": "https://localhost:8080/"
    },
    "id": "bMoMUVy1-i8m",
    "outputId": "7b72ee7a-75ff-4723-f6cf-a9f519dd88a5"
   },
   "outputs": [
    {
     "data": {
      "text/plain": [
       "0.6075354177919019"
      ]
     },
     "execution_count": 90,
     "metadata": {
      "tags": []
     },
     "output_type": "execute_result"
    }
   ],
   "source": [
    "cls.score(d2_test_dataset,Y_test)"
   ]
  },
  {
   "cell_type": "code",
   "execution_count": 91,
   "metadata": {
    "id": "u-yZlvzu-pa9"
   },
   "outputs": [],
   "source": [
    "def LSTM_MAEP_RMSE(month,year):\n",
    "  year_dict = {2018: 1, 2019: 2, 2020: 3}\n",
    "\n",
    "  month_seq = {\n",
    "      \"jan\": 1,\n",
    "      \"feb\": 2,\n",
    "      \"mar\": 3,\n",
    "      \"apr\": 4,\n",
    "      \"may\": 5,\n",
    "      \"jun\": 6,\n",
    "      \"jul\": 7,\n",
    "      \"aug\": 8,\n",
    "      \"sep\": 9,\n",
    "      \"oct\": 10,\n",
    "      \"nov\": 11,\n",
    "      \"dec\": 12,\n",
    "  }\n",
    "\n",
    "  month_dict = {\n",
    "      \"jan\": (0, 31),\n",
    "      \"feb\": (31, 59),\n",
    "      \"mar\": (59, 90),\n",
    "      \"apr\": (90, 120),\n",
    "      \"may\": (120, 151),\n",
    "      \"jun\": (151, 181),\n",
    "      \"jul\": (181, 212),\n",
    "      \"aug\": (212, 243),\n",
    "      \"sep\": (243, 273),\n",
    "      \"oct\": (273, 304),\n",
    "      \"nov\": (304, 334),\n",
    "      \"dec\": (334, 365)\n",
    "  } \n",
    "\n",
    "  st = year_dict[year]*365+(month_dict[month][0] + (1 if year == 2020 and month_seq[month] > 2 else 0))*24\n",
    "  en = year_dict[year]*365+(month_dict[month][1] + (1 if year == 2020 and month_seq[month] >= 2 else 0))*24\n",
    "  test_y_jan = []\n",
    "  true_y_jan = []\n",
    "  for i in range(st, en):\n",
    "      test = X[i]\n",
    "      true_y_jan.append(Y[i])\n",
    "      test = test.reshape(1,1,5)\n",
    "      y = model.predict(test)\n",
    "      test_y_jan.append(y[0][0])\n",
    "  return mean_absolute_percentage_error(true_y_jan,test_y_jan),mean_squared_error(true_y_jan,test_y_jan)"
   ]
  },
  {
   "cell_type": "code",
   "execution_count": 92,
   "metadata": {
    "id": "DyC7KVV3-suN"
   },
   "outputs": [],
   "source": [
    "def RF_MAPE_RMSE(month,year):\n",
    "  year_dict = {2018: 1, 2019: 2, 2020: 3}\n",
    "\n",
    "  month_seq = {\n",
    "      \"jan\": 1,\n",
    "      \"feb\": 2,\n",
    "      \"mar\": 3,\n",
    "      \"apr\": 4,\n",
    "      \"may\": 5,\n",
    "      \"jun\": 6,\n",
    "      \"jul\": 7,\n",
    "      \"aug\": 8,\n",
    "      \"sep\": 9,\n",
    "      \"oct\": 10,\n",
    "      \"nov\": 11,\n",
    "      \"dec\": 12,\n",
    "  }\n",
    "\n",
    "  month_dict = {\n",
    "      \"jan\": (0, 31),\n",
    "      \"feb\": (31, 59),\n",
    "      \"mar\": (59, 90),\n",
    "      \"apr\": (90, 120),\n",
    "      \"may\": (120, 151),\n",
    "      \"jun\": (151, 181),\n",
    "      \"jul\": (181, 212),\n",
    "      \"aug\": (212, 243),\n",
    "      \"sep\": (243, 273),\n",
    "      \"oct\": (273, 304),\n",
    "      \"nov\": (304, 334),\n",
    "      \"dec\": (334, 365)\n",
    "  } \n",
    "\n",
    "  st = year_dict[year]*365+(month_dict[month][0] + (1 if year == 2020 and month_seq[month] > 2 else 0))*24\n",
    "  en = year_dict[year]*365+(month_dict[month][1] + (1 if year == 2020 and month_seq[month] >= 2 else 0))*24\n",
    "  test_y_jan = []\n",
    "  true_y_jan = []\n",
    "  for i in range(st, en):\n",
    "    test = X[i]\n",
    "    true_y_jan.append(Y[i])\n",
    "    test = test.reshape(1,1*5)\n",
    "    y = cls.predict(test)\n",
    "    test_y_jan.append(y[0])\n",
    "  return mean_absolute_percentage_error(true_y_jan,test_y_jan),mean_squared_error(true_y_jan,test_y_jan)"
   ]
  },
  {
   "cell_type": "code",
   "execution_count": 95,
   "metadata": {
    "id": "Wl7jw90d-vSz"
   },
   "outputs": [],
   "source": [
    "JANUARY_LSTM_MAPE,JANUARY_LSTM_RSME=LSTM_MAEP_RMSE(\"jan\",2019)\n",
    "JUNE_LSTM_MAPE,JUNEY_LSTM_RSME=LSTM_MAEP_RMSE(\"jun\",2019)\n",
    "DECEMBER_LSTM_MAPE,DECEMBER_LSTM_RSME=LSTM_MAEP_RMSE(\"dec\",2019)"
   ]
  },
  {
   "cell_type": "code",
   "execution_count": 96,
   "metadata": {
    "colab": {
     "base_uri": "https://localhost:8080/"
    },
    "id": "S8Mbi8vH_r-r",
    "outputId": "2f1c3227-2782-4dc2-ff68-5ea305445dfd"
   },
   "outputs": [
    {
     "name": "stdout",
     "output_type": "stream",
     "text": [
      "5.497941527329733 0.0013937262435878936\n",
      "6.100117025060992 0.002822189236742747\n",
      "3.327869316809689 0.0005264800659336858\n"
     ]
    }
   ],
   "source": [
    "print(JANUARY_LSTM_MAPE,JANUARY_LSTM_RSME)\n",
    "print(JUNE_LSTM_MAPE,JUNEY_LSTM_RSME)\n",
    "print(DECEMBER_LSTM_MAPE,DECEMBER_LSTM_RSME)"
   ]
  },
  {
   "cell_type": "code",
   "execution_count": 93,
   "metadata": {
    "id": "IFtRe-Pb_07k"
   },
   "outputs": [],
   "source": [
    "JANUARY_RF_MAPE,JANUARY_RF_RSME=RF_MAPE_RMSE(\"jan\",2019)\n",
    "JUNE_RF_MAPE,JUNEY_RF_RSME=RF_MAPE_RMSE(\"jun\",2019)\n",
    "DECEMBER_RF_MAPE,DECEMBER_RF_RSME=RF_MAPE_RMSE(\"dec\",2019)"
   ]
  },
  {
   "cell_type": "code",
   "execution_count": 94,
   "metadata": {
    "colab": {
     "base_uri": "https://localhost:8080/"
    },
    "id": "wDfJgh2D_3lO",
    "outputId": "70f0f336-84ea-487c-bff3-1e3814d54872"
   },
   "outputs": [
    {
     "name": "stdout",
     "output_type": "stream",
     "text": [
      "5.131196718650135 0.0019224458709516294\n",
      "5.428019465663703 0.004193559574948023\n",
      "2.927525489703794 0.0005850969778258638\n"
     ]
    }
   ],
   "source": [
    "print(JANUARY_RF_MAPE,JANUARY_RF_RSME)\n",
    "print(JUNE_RF_MAPE,JUNEY_RF_RSME)\n",
    "print(DECEMBER_RF_MAPE,DECEMBER_RF_RSME)"
   ]
  },
  {
   "cell_type": "code",
   "execution_count": 80,
   "metadata": {
    "id": "bhPYR883le5s"
   },
   "outputs": [],
   "source": [
    "def LSTM_MONTH_PLOT(month,year):\n",
    "\n",
    "  year_dict = {2018: 1, 2019: 2, 2020: 3}\n",
    "\n",
    "  month_seq = {\n",
    "      \"jan\": 1,\n",
    "      \"feb\": 2,\n",
    "      \"mar\": 3,\n",
    "      \"apr\": 4,\n",
    "      \"may\": 5,\n",
    "      \"jun\": 6,\n",
    "      \"jul\": 7,\n",
    "      \"aug\": 8,\n",
    "      \"sep\": 9,\n",
    "      \"oct\": 10,\n",
    "      \"nov\": 11,\n",
    "      \"dec\": 12,\n",
    "  }\n",
    "\n",
    "  month_dict = {\n",
    "      \"jan\": (0, 31),\n",
    "      \"feb\": (31, 59),\n",
    "      \"mar\": (59, 90),\n",
    "      \"apr\": (90, 120),\n",
    "      \"may\": (120, 151),\n",
    "      \"jun\": (151, 181),\n",
    "      \"jul\": (181, 212),\n",
    "      \"aug\": (212, 243),\n",
    "      \"sep\": (243, 273),\n",
    "      \"oct\": (273, 304),\n",
    "      \"nov\": (304, 334),\n",
    "      \"dec\": (334, 365)\n",
    "  } \n",
    "\n",
    "  st = year_dict[year]*365+(month_dict[month][0] + (1 if year == 2020 and month_seq[month] > 2 else 0))*24\n",
    "  en = year_dict[year]*365+(month_dict[month][1] + (1 if year == 2020 and month_seq[month] >= 2 else 0))*24\n",
    "  test_y = []\n",
    "  true_y = []\n",
    "  for i in range(st, en):\n",
    "      test = X[i]\n",
    "      true_y.append(Y[i]*D_max)\n",
    "      test = test.reshape(1,1,5)\n",
    "      y = model.predict(test)\n",
    "      test_y.append(y[0][0]*D_max)\n",
    "  plt.plot(true_y)\n",
    "  plt.plot(test_y)\n",
    "  plt.suptitle(f\"{month} Month prediction comparison\")\n",
    "  plt.legend([\"ACTUAL\", \"LSTM PREDICTION\"])"
   ]
  },
  {
   "cell_type": "code",
   "execution_count": 81,
   "metadata": {
    "colab": {
     "base_uri": "https://localhost:8080/",
     "height": 308
    },
    "id": "RoXnxIEJl_Ux",
    "outputId": "473922c8-8790-49a4-d5e4-7e8ac194434f"
   },
   "outputs": [
    {
     "data": {
      "image/png": "[encoded data removed]",
      "text/plain": [
       "<Figure size 432x288 with 1 Axes>"
      ]
     },
     "metadata": {
      "needs_background": "light",
      "tags": []
     },
     "output_type": "display_data"
    }
   ],
   "source": [
    "LSTM_MONTH_PLOT(\"mar\", 2020)"
   ]
  }
 ],
 "metadata": {
  "colab": {
   "collapsed_sections": [],
   "name": "Thesis_LSTM_Sihan.ipynb",
   "provenance": []
  },
  "kernelspec": {
   "display_name": "Python 3",
   "language": "python",
   "name": "python3"
  },
  "language_info": {
   "codemirror_mode": {
    "name": "ipython",
    "version": 3
   },
   "file_extension": ".py",
   "mimetype": "text/x-python",
   "name": "python",
   "nbconvert_exporter": "python",
   "pygments_lexer": "ipython3",
   "version": "3.8.5"
  }
 },
 "nbformat": 4,
 "nbformat_minor": 1
}
