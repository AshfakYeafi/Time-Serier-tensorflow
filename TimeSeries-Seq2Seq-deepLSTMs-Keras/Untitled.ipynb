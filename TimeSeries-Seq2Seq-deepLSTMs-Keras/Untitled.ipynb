{
 "cells": [
  {
   "cell_type": "code",
   "execution_count": 1,
   "metadata": {},
   "outputs": [],
   "source": [
    "import pandas as pd\n",
    "import numpy as np\n",
    "import time\n",
    "\n",
    "%matplotlib inline\n",
    "import matplotlib.pyplot as plt\n",
    "import seaborn as sns\n",
    "sns.set_style(\"darkgrid\")\n",
    "\n",
    "from keras.models import Model\n",
    "from keras.layers import Input, LSTM, Dense, LSTMCell, RNN, Bidirectional, concatenate\n",
    "from keras.optimizers import Adam\n",
    "\n",
    "from sklearn.preprocessing import MinMaxScaler"
   ]
  },
  {
   "cell_type": "code",
   "execution_count": 2,
   "metadata": {},
   "outputs": [],
   "source": [
    "data = pd.read_csv(\"daily-minimum-temperatures-in-me.csv\")"
   ]
  },
  {
   "cell_type": "code",
   "execution_count": 3,
   "metadata": {},
   "outputs": [
    {
     "data": {
      "text/html": [
       "<div>\n",
       "<style scoped>\n",
       "    .dataframe tbody tr th:only-of-type {\n",
       "        vertical-align: middle;\n",
       "    }\n",
       "\n",
       "    .dataframe tbody tr th {\n",
       "        vertical-align: top;\n",
       "    }\n",
       "\n",
       "    .dataframe thead th {\n",
       "        text-align: right;\n",
       "    }\n",
       "</style>\n",
       "<table border=\"1\" class=\"dataframe\">\n",
       "  <thead>\n",
       "    <tr style=\"text-align: right;\">\n",
       "      <th></th>\n",
       "      <th>Date</th>\n",
       "      <th>Min_temp</th>\n",
       "    </tr>\n",
       "  </thead>\n",
       "  <tbody>\n",
       "    <tr>\n",
       "      <th>0</th>\n",
       "      <td>1/1/1981</td>\n",
       "      <td>20.7</td>\n",
       "    </tr>\n",
       "    <tr>\n",
       "      <th>1</th>\n",
       "      <td>1/2/1981</td>\n",
       "      <td>17.9</td>\n",
       "    </tr>\n",
       "    <tr>\n",
       "      <th>2</th>\n",
       "      <td>1/3/1981</td>\n",
       "      <td>18.8</td>\n",
       "    </tr>\n",
       "    <tr>\n",
       "      <th>3</th>\n",
       "      <td>1/4/1981</td>\n",
       "      <td>14.6</td>\n",
       "    </tr>\n",
       "    <tr>\n",
       "      <th>4</th>\n",
       "      <td>1/5/1981</td>\n",
       "      <td>15.8</td>\n",
       "    </tr>\n",
       "  </tbody>\n",
       "</table>\n",
       "</div>"
      ],
      "text/plain": [
       "       Date  Min_temp\n",
       "0  1/1/1981      20.7\n",
       "1  1/2/1981      17.9\n",
       "2  1/3/1981      18.8\n",
       "3  1/4/1981      14.6\n",
       "4  1/5/1981      15.8"
      ]
     },
     "execution_count": 3,
     "metadata": {},
     "output_type": "execute_result"
    }
   ],
   "source": [
    "data.head()"
   ]
  },
  {
   "cell_type": "code",
   "execution_count": 4,
   "metadata": {},
   "outputs": [
    {
     "name": "stdout",
     "output_type": "stream",
     "text": [
      "<class 'pandas.core.frame.DataFrame'>\n",
      "RangeIndex: 3650 entries, 0 to 3649\n",
      "Data columns (total 2 columns):\n",
      " #   Column    Non-Null Count  Dtype  \n",
      "---  ------    --------------  -----  \n",
      " 0   Date      3650 non-null   object \n",
      " 1   Min_temp  3650 non-null   float64\n",
      "dtypes: float64(1), object(1)\n",
      "memory usage: 57.2+ KB\n"
     ]
    }
   ],
   "source": [
    "data.info()"
   ]
  },
  {
   "cell_type": "code",
   "execution_count": 5,
   "metadata": {},
   "outputs": [],
   "source": [
    "data['Min_temp'] = data['Min_temp'].apply(lambda x: float(x))"
   ]
  },
  {
   "cell_type": "code",
   "execution_count": 6,
   "metadata": {},
   "outputs": [
    {
     "data": {
      "text/html": [
       "<div>\n",
       "<style scoped>\n",
       "    .dataframe tbody tr th:only-of-type {\n",
       "        vertical-align: middle;\n",
       "    }\n",
       "\n",
       "    .dataframe tbody tr th {\n",
       "        vertical-align: top;\n",
       "    }\n",
       "\n",
       "    .dataframe thead th {\n",
       "        text-align: right;\n",
       "    }\n",
       "</style>\n",
       "<table border=\"1\" class=\"dataframe\">\n",
       "  <thead>\n",
       "    <tr style=\"text-align: right;\">\n",
       "      <th></th>\n",
       "      <th>Date</th>\n",
       "      <th>Min_temp</th>\n",
       "    </tr>\n",
       "  </thead>\n",
       "  <tbody>\n",
       "    <tr>\n",
       "      <th>0</th>\n",
       "      <td>1/1/1981</td>\n",
       "      <td>20.7</td>\n",
       "    </tr>\n",
       "    <tr>\n",
       "      <th>1</th>\n",
       "      <td>1/2/1981</td>\n",
       "      <td>17.9</td>\n",
       "    </tr>\n",
       "    <tr>\n",
       "      <th>2</th>\n",
       "      <td>1/3/1981</td>\n",
       "      <td>18.8</td>\n",
       "    </tr>\n",
       "    <tr>\n",
       "      <th>3</th>\n",
       "      <td>1/4/1981</td>\n",
       "      <td>14.6</td>\n",
       "    </tr>\n",
       "    <tr>\n",
       "      <th>4</th>\n",
       "      <td>1/5/1981</td>\n",
       "      <td>15.8</td>\n",
       "    </tr>\n",
       "    <tr>\n",
       "      <th>...</th>\n",
       "      <td>...</td>\n",
       "      <td>...</td>\n",
       "    </tr>\n",
       "    <tr>\n",
       "      <th>3645</th>\n",
       "      <td>12/27/1990</td>\n",
       "      <td>14.0</td>\n",
       "    </tr>\n",
       "    <tr>\n",
       "      <th>3646</th>\n",
       "      <td>12/28/1990</td>\n",
       "      <td>13.6</td>\n",
       "    </tr>\n",
       "    <tr>\n",
       "      <th>3647</th>\n",
       "      <td>12/29/1990</td>\n",
       "      <td>13.5</td>\n",
       "    </tr>\n",
       "    <tr>\n",
       "      <th>3648</th>\n",
       "      <td>12/30/1990</td>\n",
       "      <td>15.7</td>\n",
       "    </tr>\n",
       "    <tr>\n",
       "      <th>3649</th>\n",
       "      <td>12/31/1990</td>\n",
       "      <td>13.0</td>\n",
       "    </tr>\n",
       "  </tbody>\n",
       "</table>\n",
       "<p>3650 rows × 2 columns</p>\n",
       "</div>"
      ],
      "text/plain": [
       "            Date  Min_temp\n",
       "0       1/1/1981      20.7\n",
       "1       1/2/1981      17.9\n",
       "2       1/3/1981      18.8\n",
       "3       1/4/1981      14.6\n",
       "4       1/5/1981      15.8\n",
       "...          ...       ...\n",
       "3645  12/27/1990      14.0\n",
       "3646  12/28/1990      13.6\n",
       "3647  12/29/1990      13.5\n",
       "3648  12/30/1990      15.7\n",
       "3649  12/31/1990      13.0\n",
       "\n",
       "[3650 rows x 2 columns]"
      ]
     },
     "execution_count": 6,
     "metadata": {},
     "output_type": "execute_result"
    }
   ],
   "source": [
    "data"
   ]
  },
  {
   "cell_type": "code",
   "execution_count": 7,
   "metadata": {},
   "outputs": [],
   "source": [
    "series = data['Min_temp']"
   ]
  },
  {
   "cell_type": "code",
   "execution_count": 8,
   "metadata": {},
   "outputs": [],
   "source": [
    "seq = series.copy()"
   ]
  },
  {
   "cell_type": "code",
   "execution_count": 9,
   "metadata": {},
   "outputs": [
    {
     "data": {
      "image/png": "[encoded data removed]",
      "text/plain": [
       "<Figure size 1080x504 with 1 Axes>"
      ]
     },
     "metadata": {},
     "output_type": "display_data"
    }
   ],
   "source": [
    "plt.figure(figsize=(15,7))\n",
    "plt.title(\"Sequence\", fontsize = 18)\n",
    "plt.xlabel(\"Index\", fontsize = 18)\n",
    "plt.ylabel(\"Value\", fontsize = 18)\n",
    "plt.plot(seq)\n",
    "plt.show()"
   ]
  },
  {
   "cell_type": "code",
   "execution_count": 10,
   "metadata": {},
   "outputs": [],
   "source": [
    "scaler = MinMaxScaler(feature_range=(-1,1))\n",
    "X =scaler.fit_transform(seq.values.reshape(-1,1))"
   ]
  },
  {
   "cell_type": "code",
   "execution_count": 11,
   "metadata": {},
   "outputs": [],
   "source": [
    "x_train = X[2500:-100]\n",
    "y = X[-100:]"
   ]
  },
  {
   "cell_type": "code",
   "execution_count": 12,
   "metadata": {},
   "outputs": [],
   "source": [
    "input_seq_len = 60\n",
    "output_seq_len = 20\n",
    "n_in_features = 1\n",
    "n_out_features = 1\n",
    "batch_size = 10"
   ]
  },
  {
   "cell_type": "code",
   "execution_count": 13,
   "metadata": {},
   "outputs": [],
   "source": [
    "def generate_train_sequences(x):\n",
    "    \n",
    "    total_start_points = len(x) - input_seq_len - output_seq_len\n",
    "    start_x_idx = np.random.choice(range(total_start_points), total_start_points, replace = False)\n",
    "    \n",
    "    input_batch_idxs = [(range(i, i+input_seq_len)) for i in start_x_idx]\n",
    "    input_seq = np.take(x, input_batch_idxs, axis = 0)\n",
    "    \n",
    "    output_batch_idxs = [(range(i+input_seq_len, i+input_seq_len+output_seq_len)) for i in start_x_idx]\n",
    "    output_seq = np.take(x, output_batch_idxs, axis = 0)\n",
    "    \n",
    "    input_seq =(input_seq.reshape(input_seq.shape[0],input_seq.shape[1],n_in_features))\n",
    "    output_seq=(output_seq.reshape(output_seq.shape[0],output_seq.shape[1],n_out_features))\n",
    "    \n",
    "    return input_seq, output_seq"
   ]
  },
  {
   "cell_type": "code",
   "execution_count": 14,
   "metadata": {},
   "outputs": [],
   "source": [
    "def create_model(layers, bidirectional=False):\n",
    "    \n",
    "    n_layers = len(layers)\n",
    "    \n",
    "    ## Encoder\n",
    "    encoder_inputs = Input(shape=(None, n_in_features))\n",
    "    lstm_cells = [LSTMCell(hidden_dim) for hidden_dim in layers]\n",
    "    if bidirectional:\n",
    "        encoder = Bidirectional(RNN(lstm_cells, return_state=True))\n",
    "        encoder_outputs_and_states = encoder(encoder_inputs)\n",
    "        bi_encoder_states = encoder_outputs_and_states[1:]\n",
    "        encoder_states = []\n",
    "        for i in range(int(len(bi_encoder_states)/2)):\n",
    "            temp = concatenate([bi_encoder_states[i],bi_encoder_states[2*n_layers + i]], axis=-1)\n",
    "            encoder_states.append(temp)\n",
    "    else:  \n",
    "        encoder = RNN(lstm_cells, return_state=True)\n",
    "        encoder_outputs_and_states = encoder(encoder_inputs)\n",
    "        encoder_states = encoder_outputs_and_states[1:]\n",
    "    \n",
    "    ## Decoder\n",
    "    decoder_inputs = Input(shape=(None, n_out_features))\n",
    "    if bidirectional:\n",
    "        decoder_cells = [LSTMCell(hidden_dim*2) for hidden_dim in layers]\n",
    "    else:\n",
    "        decoder_cells = [LSTMCell(hidden_dim) for hidden_dim in layers]\n",
    "        \n",
    "    decoder_lstm = RNN(decoder_cells, return_sequences=True, return_state=True)\n",
    "\n",
    "    decoder_outputs_and_states = decoder_lstm(decoder_inputs,\n",
    "                                          initial_state=encoder_states)\n",
    "    decoder_outputs = decoder_outputs_and_states[0]\n",
    "\n",
    "    decoder_dense = Dense(n_out_features) \n",
    "    decoder_outputs = decoder_dense(decoder_outputs)\n",
    "    \n",
    "    model = Model([encoder_inputs,decoder_inputs], decoder_outputs)\n",
    "    return model"
   ]
  },
  {
   "cell_type": "code",
   "execution_count": 15,
   "metadata": {},
   "outputs": [],
   "source": [
    "def run_model(model,batches,epochs,batch_size):\n",
    "\n",
    "    for _ in range(batches):\n",
    "\n",
    "        input_seq, output_seq = generate_train_sequences(x_train)\n",
    "\n",
    "        encoder_input_data = input_seq\n",
    "        decoder_target_data = output_seq\n",
    "        decoder_input_data = np.zeros(decoder_target_data.shape)\n",
    "\n",
    "        history = model.fit([encoder_input_data, decoder_input_data], decoder_target_data,\n",
    "                             batch_size=batch_size,\n",
    "                             epochs=epochs,\n",
    "                             validation_split=0.1, \n",
    "                             shuffle=False)\n",
    "                           \n",
    "        total_loss.append(history.history['loss'])\n",
    "        total_val_loss.append(history.history['val_loss'])"
   ]
  },
  {
   "cell_type": "code",
   "execution_count": 17,
   "metadata": {},
   "outputs": [
    {
     "data": {
      "text/plain": [
       "[2, 2]"
      ]
     },
     "execution_count": 17,
     "metadata": {},
     "output_type": "execute_result"
    }
   ],
   "source": [
    "a=[i for i in [2,2]]"
   ]
  },
  {
   "cell_type": "code",
   "execution_count": 19,
   "metadata": {},
   "outputs": [],
   "source": [
    "layers=[60,60]\n",
    "lstm_cells = [LSTMCell(hidden_dim) for hidden_dim in layers]\n"
   ]
  },
  {
   "cell_type": "code",
   "execution_count": 20,
   "metadata": {},
   "outputs": [
    {
     "data": {
      "text/plain": [
       "[<tensorflow.python.keras.layers.recurrent_v2.LSTMCell at 0x7f2e364716a0>,\n",
       " <tensorflow.python.keras.layers.recurrent_v2.LSTMCell at 0x7f2e3647bd00>]"
      ]
     },
     "execution_count": 20,
     "metadata": {},
     "output_type": "execute_result"
    }
   ],
   "source": [
    "lstm_cells"
   ]
  },
  {
   "cell_type": "code",
   "execution_count": 21,
   "metadata": {},
   "outputs": [],
   "source": [
    "\n",
    "input_seq_len = 60\n",
    "output_seq_len = 20\n",
    "n_in_features = 1\n",
    "n_out_features = 1\n",
    "batch_size = 10\n",
    "\n",
    "\n",
    "\n",
    "# encoder_inputs = Input(shape=(None, n_in_features))\n",
    "# lstm_cells = [LSTMCell(hidden_dim) for hidden_dim in layers]\n",
    "\n",
    "# encoder = RNN(lstm_cells, return_state=True)\n",
    "# encoder_outputs_and_states = encoder(encoder_inputs)\n",
    "# encoder_states = encoder_outputs_and_states[1:]\n",
    "\n",
    "# decoder_cells = [LSTMCell(hidden_dim) for hidden_dim in layers]\n",
    "# decoder_lstm = RNN(decoder_cells, return_sequences=True, return_state=True)\n",
    "\n",
    "# decoder_outputs_and_states = decoder_lstm(decoder_inputs,\n",
    "#                                       initial_state=encoder_states)\n",
    "# decoder_outputs = decoder_outputs_and_states[0]\n",
    "\n",
    "# decoder_dense = Dense(n_out_features) \n",
    "# decoder_outputs = decoder_dense(decoder_outputs)\n",
    "\n",
    "# model = Model([encoder_inputs,decoder_inputs], decoder_outputs)\n",
    "\n",
    "\n",
    "\n",
    "def create_model(layers, bidirectional=False):\n",
    "    \n",
    "    n_layers = len(layers)\n",
    "    \n",
    "    ## Encoder\n",
    "    encoder_inputs = Input(shape=(None, n_in_features))\n",
    "    lstm_cells = [LSTMCell(hidden_dim) for hidden_dim in layers]\n",
    "    if bidirectional:\n",
    "        encoder = Bidirectional(RNN(lstm_cells, return_state=True))\n",
    "        encoder_outputs_and_states = encoder(encoder_inputs)\n",
    "        bi_encoder_states = encoder_outputs_and_states[1:]\n",
    "        encoder_states = []\n",
    "        for i in range(int(len(bi_encoder_states)/2)):\n",
    "            temp = concatenate([bi_encoder_states[i],bi_encoder_states[2*n_layers + i]], axis=-1)\n",
    "            encoder_states.append(temp)\n",
    "    else:  \n",
    "        encoder = RNN(lstm_cells, return_state=True)\n",
    "        encoder_outputs_and_states = encoder(encoder_inputs)\n",
    "        encoder_states = encoder_outputs_and_states[1:]\n",
    "    \n",
    "    ## Decoder\n",
    "    decoder_inputs = Input(shape=(None, n_out_features))\n",
    "    if bidirectional:\n",
    "        decoder_cells = [LSTMCell(hidden_dim*2) for hidden_dim in layers]\n",
    "    else:\n",
    "        decoder_cells = [LSTMCell(hidden_dim) for hidden_dim in layers]\n",
    "        \n",
    "    decoder_lstm = RNN(decoder_cells, return_sequences=True, return_state=True)\n",
    "\n",
    "    decoder_outputs_and_states = decoder_lstm(decoder_inputs,\n",
    "                                          initial_state=encoder_states)\n",
    "    decoder_outputs = decoder_outputs_and_states[0]\n",
    "\n",
    "    decoder_dense = Dense(n_out_features) \n",
    "    decoder_outputs = decoder_dense(decoder_outputs)\n",
    "    \n",
    "    model = Model([encoder_inputs,decoder_inputs], decoder_outputs)\n",
    "    return model"
   ]
  },
  {
   "cell_type": "code",
   "execution_count": null,
   "metadata": {},
   "outputs": [],
   "source": []
  }
 ],
 "metadata": {
  "kernelspec": {
   "display_name": "Python 3",
   "language": "python",
   "name": "python3"
  },
  "language_info": {
   "codemirror_mode": {
    "name": "ipython",
    "version": 3
   },
   "file_extension": ".py",
   "mimetype": "text/x-python",
   "name": "python",
   "nbconvert_exporter": "python",
   "pygments_lexer": "ipython3",
   "version": "3.8.5"
  }
 },
 "nbformat": 4,
 "nbformat_minor": 4
}
